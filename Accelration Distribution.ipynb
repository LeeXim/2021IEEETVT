{
 "cells": [
  {
   "cell_type": "code",
   "execution_count": 1,
   "metadata": {},
   "outputs": [],
   "source": [
    "import pandas as pd\n",
    "import numpy as np\n",
    "import matplotlib\n",
    "from matplotlib import pyplot as plt\n",
    "import matplotlib.pylab as pylab\n",
    "import matplotlib.ticker as ticker\n",
    "\n",
    "from collections import Counter\n",
    "from scipy.interpolate import make_interp_spline, BSpline\n",
    "import seaborn as sns"
   ]
  },
  {
   "cell_type": "code",
   "execution_count": 2,
   "metadata": {},
   "outputs": [],
   "source": [
    "LC05 = pd.read_csv(\"./LC2013_ACC05.csv\", names=['n1','n2','n3','n4','n5','n6','n7','n8',\n",
    "                                               'n9','n10','n11','n12','n13','n14','n15','n16',\n",
    "                                               'n17', 'n18','rl'])\n",
    "LC10 = pd.read_csv(\"./LC2013_ACC10.csv\", names=['n1','n2','n3','n4','n5','n6','n7','n8',\n",
    "                                               'n9','n10','n11','n12','n13','n14','n15','n16',\n",
    "                                               'n17', 'n18','rl'])\n",
    "LC15 = pd.read_csv(\"./LC2013_ACC15.csv\", names=['n1','n2','n3','n4','n5','n6','n7','n8',\n",
    "                                               'n9','n10','n11','n12','n13','n14','n15','n16',\n",
    "                                               'n17', 'n18','rl'])\n",
    "LC20 = pd.read_csv(\"./LC2013_ACC20.csv\", names=['n1','n2','n3','n4','n5','n6','n7','n8',\n",
    "                                               'n9','n10','n11','n12','n13','n14','n15','n16',\n",
    "                                               'n17', 'n18','rl'])\n",
    "LC25 = pd.read_csv(\"./LC2013_ACC25.csv\", names=['n1','n2','n3','n4','n5','n6','n7','n8',\n",
    "                                               'n9','n10','n11','n12','n13','n14','n15','n16',\n",
    "                                               'n17', 'n18','rl'])"
   ]
  },
  {
   "cell_type": "code",
   "execution_count": 4,
   "metadata": {},
   "outputs": [
    {
     "data": {
      "text/html": [
       "<div>\n",
       "<style scoped>\n",
       "    .dataframe tbody tr th:only-of-type {\n",
       "        vertical-align: middle;\n",
       "    }\n",
       "\n",
       "    .dataframe tbody tr th {\n",
       "        vertical-align: top;\n",
       "    }\n",
       "\n",
       "    .dataframe thead th {\n",
       "        text-align: right;\n",
       "    }\n",
       "</style>\n",
       "<table border=\"1\" class=\"dataframe\">\n",
       "  <thead>\n",
       "    <tr style=\"text-align: right;\">\n",
       "      <th></th>\n",
       "      <th>n1</th>\n",
       "      <th>n2</th>\n",
       "      <th>n3</th>\n",
       "      <th>n4</th>\n",
       "      <th>n5</th>\n",
       "      <th>n6</th>\n",
       "      <th>n7</th>\n",
       "      <th>n8</th>\n",
       "      <th>n9</th>\n",
       "      <th>n10</th>\n",
       "      <th>n11</th>\n",
       "      <th>n12</th>\n",
       "      <th>n13</th>\n",
       "      <th>n14</th>\n",
       "      <th>n15</th>\n",
       "      <th>n16</th>\n",
       "      <th>n17</th>\n",
       "      <th>n18</th>\n",
       "      <th>rl</th>\n",
       "    </tr>\n",
       "  </thead>\n",
       "  <tbody>\n",
       "    <tr>\n",
       "      <th>0</th>\n",
       "      <td>[0.7773245739870721</td>\n",
       "      <td>1.353081</td>\n",
       "      <td>1.112255</td>\n",
       "      <td>1.077757</td>\n",
       "      <td>1.098296</td>\n",
       "      <td>0.986321</td>\n",
       "      <td>0.983492</td>\n",
       "      <td>0.852237</td>\n",
       "      <td>1.150315</td>\n",
       "      <td>1.090777</td>\n",
       "      <td>0.842649</td>\n",
       "      <td>1.116021</td>\n",
       "      <td>0.790722</td>\n",
       "      <td>1.029464</td>\n",
       "      <td>1.262663</td>\n",
       "      <td>0.628910</td>\n",
       "      <td>0.837322</td>\n",
       "      <td>0.9904210271941921]</td>\n",
       "      <td>NaN</td>\n",
       "    </tr>\n",
       "    <tr>\n",
       "      <th>1</th>\n",
       "      <td>[0.8000153972483981</td>\n",
       "      <td>0.998625</td>\n",
       "      <td>0.972747</td>\n",
       "      <td>1.029018</td>\n",
       "      <td>1.302369</td>\n",
       "      <td>1.105349</td>\n",
       "      <td>1.189460</td>\n",
       "      <td>0.866496</td>\n",
       "      <td>1.034886</td>\n",
       "      <td>1.116077</td>\n",
       "      <td>0.721425</td>\n",
       "      <td>0.875436</td>\n",
       "      <td>0.868646</td>\n",
       "      <td>0.938838</td>\n",
       "      <td>1.035679</td>\n",
       "      <td>1.021183</td>\n",
       "      <td>0.732624</td>\n",
       "      <td>1.032757206532952]</td>\n",
       "      <td>NaN</td>\n",
       "    </tr>\n",
       "    <tr>\n",
       "      <th>2</th>\n",
       "      <td>[0.605199960831666</td>\n",
       "      <td>0.735721</td>\n",
       "      <td>0.904043</td>\n",
       "      <td>0.653104</td>\n",
       "      <td>1.128438</td>\n",
       "      <td>0.962195</td>\n",
       "      <td>1.103261</td>\n",
       "      <td>1.181160</td>\n",
       "      <td>1.144857</td>\n",
       "      <td>0.663228</td>\n",
       "      <td>0.614425</td>\n",
       "      <td>0.938371</td>\n",
       "      <td>1.043024</td>\n",
       "      <td>0.672463</td>\n",
       "      <td>0.796995</td>\n",
       "      <td>0.896769</td>\n",
       "      <td>0.881397</td>\n",
       "      <td>1.1854162574681515]</td>\n",
       "      <td>NaN</td>\n",
       "    </tr>\n",
       "    <tr>\n",
       "      <th>3</th>\n",
       "      <td>[1.1436659606589443</td>\n",
       "      <td>0.835340</td>\n",
       "      <td>1.115704</td>\n",
       "      <td>0.935590</td>\n",
       "      <td>0.875044</td>\n",
       "      <td>1.072022</td>\n",
       "      <td>0.886765</td>\n",
       "      <td>1.060717</td>\n",
       "      <td>1.156797</td>\n",
       "      <td>1.029790</td>\n",
       "      <td>1.112746</td>\n",
       "      <td>0.820319</td>\n",
       "      <td>0.972134</td>\n",
       "      <td>0.905498</td>\n",
       "      <td>1.184071</td>\n",
       "      <td>1.196199</td>\n",
       "      <td>0.881355</td>\n",
       "      <td>1.0284782093865046]</td>\n",
       "      <td>NaN</td>\n",
       "    </tr>\n",
       "    <tr>\n",
       "      <th>4</th>\n",
       "      <td>[1.0673522645964117</td>\n",
       "      <td>0.859831</td>\n",
       "      <td>1.126065</td>\n",
       "      <td>0.726317</td>\n",
       "      <td>0.937322</td>\n",
       "      <td>1.303848</td>\n",
       "      <td>0.784733</td>\n",
       "      <td>1.155497</td>\n",
       "      <td>0.824897</td>\n",
       "      <td>0.848778</td>\n",
       "      <td>0.761188</td>\n",
       "      <td>0.927771</td>\n",
       "      <td>0.818582</td>\n",
       "      <td>1.048741</td>\n",
       "      <td>1.167787</td>\n",
       "      <td>0.954998</td>\n",
       "      <td>1.039236</td>\n",
       "      <td>1.1534607610356788]</td>\n",
       "      <td>NaN</td>\n",
       "    </tr>\n",
       "    <tr>\n",
       "      <th>...</th>\n",
       "      <td>...</td>\n",
       "      <td>...</td>\n",
       "      <td>...</td>\n",
       "      <td>...</td>\n",
       "      <td>...</td>\n",
       "      <td>...</td>\n",
       "      <td>...</td>\n",
       "      <td>...</td>\n",
       "      <td>...</td>\n",
       "      <td>...</td>\n",
       "      <td>...</td>\n",
       "      <td>...</td>\n",
       "      <td>...</td>\n",
       "      <td>...</td>\n",
       "      <td>...</td>\n",
       "      <td>...</td>\n",
       "      <td>...</td>\n",
       "      <td>...</td>\n",
       "      <td>...</td>\n",
       "    </tr>\n",
       "    <tr>\n",
       "      <th>2995</th>\n",
       "      <td>[0.08808819699406722</td>\n",
       "      <td>-0.039466</td>\n",
       "      <td>-0.040882</td>\n",
       "      <td>0.010219</td>\n",
       "      <td>0.037354</td>\n",
       "      <td>0.390895</td>\n",
       "      <td>0.474893</td>\n",
       "      <td>0.106226</td>\n",
       "      <td>-0.297467</td>\n",
       "      <td>0.060137</td>\n",
       "      <td>-0.027080</td>\n",
       "      <td>0.135933</td>\n",
       "      <td>0.057339</td>\n",
       "      <td>-0.001987</td>\n",
       "      <td>-0.160075</td>\n",
       "      <td>0.268997</td>\n",
       "      <td>0.110744</td>\n",
       "      <td>-0.015142617579178008]</td>\n",
       "      <td>NaN</td>\n",
       "    </tr>\n",
       "    <tr>\n",
       "      <th>2996</th>\n",
       "      <td>[0.013282216524936885</td>\n",
       "      <td>-0.006876</td>\n",
       "      <td>-0.046432</td>\n",
       "      <td>0.127118</td>\n",
       "      <td>0.022055</td>\n",
       "      <td>0.080383</td>\n",
       "      <td>-0.174408</td>\n",
       "      <td>0.094563</td>\n",
       "      <td>0.438540</td>\n",
       "      <td>-0.388610</td>\n",
       "      <td>0.337316</td>\n",
       "      <td>-0.026104</td>\n",
       "      <td>0.119070</td>\n",
       "      <td>0.202947</td>\n",
       "      <td>-0.097696</td>\n",
       "      <td>0.022406</td>\n",
       "      <td>-0.158142</td>\n",
       "      <td>-0.009498121240083535]</td>\n",
       "      <td>NaN</td>\n",
       "    </tr>\n",
       "    <tr>\n",
       "      <th>2997</th>\n",
       "      <td>[0.058206537784419865</td>\n",
       "      <td>0.172363</td>\n",
       "      <td>-0.024602</td>\n",
       "      <td>-0.089937</td>\n",
       "      <td>-0.057494</td>\n",
       "      <td>-0.007621</td>\n",
       "      <td>-0.160536</td>\n",
       "      <td>0.139519</td>\n",
       "      <td>-0.196256</td>\n",
       "      <td>-0.150404</td>\n",
       "      <td>-0.207817</td>\n",
       "      <td>0.252900</td>\n",
       "      <td>-0.037910</td>\n",
       "      <td>0.195816</td>\n",
       "      <td>-0.018961</td>\n",
       "      <td>0.018668</td>\n",
       "      <td>0.054963</td>\n",
       "      <td>0.02259787517139511]</td>\n",
       "      <td>NaN</td>\n",
       "    </tr>\n",
       "    <tr>\n",
       "      <th>2998</th>\n",
       "      <td>[0.17636897862491452</td>\n",
       "      <td>0.181689</td>\n",
       "      <td>-0.154479</td>\n",
       "      <td>-0.005093</td>\n",
       "      <td>0.055442</td>\n",
       "      <td>0.007359</td>\n",
       "      <td>-0.176927</td>\n",
       "      <td>-0.281600</td>\n",
       "      <td>-0.209781</td>\n",
       "      <td>-0.055916</td>\n",
       "      <td>0.151679</td>\n",
       "      <td>-0.371214</td>\n",
       "      <td>-0.046430</td>\n",
       "      <td>0.068430</td>\n",
       "      <td>-0.085793</td>\n",
       "      <td>-0.033863</td>\n",
       "      <td>0.086018</td>\n",
       "      <td>-0.07341997517911203]</td>\n",
       "      <td>NaN</td>\n",
       "    </tr>\n",
       "    <tr>\n",
       "      <th>2999</th>\n",
       "      <td>[-0.0487225817317416</td>\n",
       "      <td>-0.078054</td>\n",
       "      <td>0.092899</td>\n",
       "      <td>0.335406</td>\n",
       "      <td>0.100787</td>\n",
       "      <td>0.017834</td>\n",
       "      <td>-0.157290</td>\n",
       "      <td>-0.060747</td>\n",
       "      <td>0.171319</td>\n",
       "      <td>-0.293028</td>\n",
       "      <td>-0.151437</td>\n",
       "      <td>0.335604</td>\n",
       "      <td>0.145378</td>\n",
       "      <td>0.345498</td>\n",
       "      <td>-0.025975</td>\n",
       "      <td>-0.201001</td>\n",
       "      <td>-0.053709</td>\n",
       "      <td>-0.2237759535561734]</td>\n",
       "      <td>NaN</td>\n",
       "    </tr>\n",
       "  </tbody>\n",
       "</table>\n",
       "<p>3000 rows × 19 columns</p>\n",
       "</div>"
      ],
      "text/plain": [
       "                         n1        n2        n3        n4        n5        n6  \\\n",
       "0       [0.7773245739870721  1.353081  1.112255  1.077757  1.098296  0.986321   \n",
       "1       [0.8000153972483981  0.998625  0.972747  1.029018  1.302369  1.105349   \n",
       "2        [0.605199960831666  0.735721  0.904043  0.653104  1.128438  0.962195   \n",
       "3       [1.1436659606589443  0.835340  1.115704  0.935590  0.875044  1.072022   \n",
       "4       [1.0673522645964117  0.859831  1.126065  0.726317  0.937322  1.303848   \n",
       "...                     ...       ...       ...       ...       ...       ...   \n",
       "2995   [0.08808819699406722 -0.039466 -0.040882  0.010219  0.037354  0.390895   \n",
       "2996  [0.013282216524936885 -0.006876 -0.046432  0.127118  0.022055  0.080383   \n",
       "2997  [0.058206537784419865  0.172363 -0.024602 -0.089937 -0.057494 -0.007621   \n",
       "2998   [0.17636897862491452  0.181689 -0.154479 -0.005093  0.055442  0.007359   \n",
       "2999   [-0.0487225817317416 -0.078054  0.092899  0.335406  0.100787  0.017834   \n",
       "\n",
       "            n7        n8        n9       n10       n11       n12       n13  \\\n",
       "0     0.983492  0.852237  1.150315  1.090777  0.842649  1.116021  0.790722   \n",
       "1     1.189460  0.866496  1.034886  1.116077  0.721425  0.875436  0.868646   \n",
       "2     1.103261  1.181160  1.144857  0.663228  0.614425  0.938371  1.043024   \n",
       "3     0.886765  1.060717  1.156797  1.029790  1.112746  0.820319  0.972134   \n",
       "4     0.784733  1.155497  0.824897  0.848778  0.761188  0.927771  0.818582   \n",
       "...        ...       ...       ...       ...       ...       ...       ...   \n",
       "2995  0.474893  0.106226 -0.297467  0.060137 -0.027080  0.135933  0.057339   \n",
       "2996 -0.174408  0.094563  0.438540 -0.388610  0.337316 -0.026104  0.119070   \n",
       "2997 -0.160536  0.139519 -0.196256 -0.150404 -0.207817  0.252900 -0.037910   \n",
       "2998 -0.176927 -0.281600 -0.209781 -0.055916  0.151679 -0.371214 -0.046430   \n",
       "2999 -0.157290 -0.060747  0.171319 -0.293028 -0.151437  0.335604  0.145378   \n",
       "\n",
       "           n14       n15       n16       n17                      n18  rl  \n",
       "0     1.029464  1.262663  0.628910  0.837322      0.9904210271941921] NaN  \n",
       "1     0.938838  1.035679  1.021183  0.732624       1.032757206532952] NaN  \n",
       "2     0.672463  0.796995  0.896769  0.881397      1.1854162574681515] NaN  \n",
       "3     0.905498  1.184071  1.196199  0.881355      1.0284782093865046] NaN  \n",
       "4     1.048741  1.167787  0.954998  1.039236      1.1534607610356788] NaN  \n",
       "...        ...       ...       ...       ...                      ...  ..  \n",
       "2995 -0.001987 -0.160075  0.268997  0.110744   -0.015142617579178008] NaN  \n",
       "2996  0.202947 -0.097696  0.022406 -0.158142   -0.009498121240083535] NaN  \n",
       "2997  0.195816 -0.018961  0.018668  0.054963     0.02259787517139511] NaN  \n",
       "2998  0.068430 -0.085793 -0.033863  0.086018    -0.07341997517911203] NaN  \n",
       "2999  0.345498 -0.025975 -0.201001 -0.053709     -0.2237759535561734] NaN  \n",
       "\n",
       "[3000 rows x 19 columns]"
      ]
     },
     "execution_count": 4,
     "metadata": {},
     "output_type": "execute_result"
    }
   ],
   "source": [
    "LC05"
   ]
  },
  {
   "cell_type": "code",
   "execution_count": 3,
   "metadata": {},
   "outputs": [
    {
     "ename": "AttributeError",
     "evalue": "Can only use .str accessor with string values!",
     "output_type": "error",
     "traceback": [
      "\u001b[0;31m---------------------------------------------------------------------------\u001b[0m",
      "\u001b[0;31mAttributeError\u001b[0m                            Traceback (most recent call last)",
      "\u001b[0;32m<ipython-input-3-6444cfd4e803>\u001b[0m in \u001b[0;36m<module>\u001b[0;34m\u001b[0m\n\u001b[0;32m----> 1\u001b[0;31m \u001b[0mLC05\u001b[0m\u001b[0;34m[\u001b[0m\u001b[0;34m'rl'\u001b[0m\u001b[0;34m]\u001b[0m \u001b[0;34m=\u001b[0m \u001b[0mLC05\u001b[0m\u001b[0;34m[\u001b[0m\u001b[0;34m'rl'\u001b[0m\u001b[0;34m]\u001b[0m\u001b[0;34m.\u001b[0m\u001b[0mstr\u001b[0m\u001b[0;34m.\u001b[0m\u001b[0mreplace\u001b[0m\u001b[0;34m(\u001b[0m\u001b[0;34m\"]\"\u001b[0m\u001b[0;34m,\u001b[0m\u001b[0;34m\"\"\u001b[0m\u001b[0;34m)\u001b[0m\u001b[0;34m\u001b[0m\u001b[0;34m\u001b[0m\u001b[0m\n\u001b[0m\u001b[1;32m      2\u001b[0m \u001b[0mLC05\u001b[0m\u001b[0;34m[\u001b[0m\u001b[0;34m'rl'\u001b[0m\u001b[0;34m]\u001b[0m \u001b[0;34m=\u001b[0m \u001b[0mLC05\u001b[0m\u001b[0;34m[\u001b[0m\u001b[0;34m'rl'\u001b[0m\u001b[0;34m]\u001b[0m\u001b[0;34m.\u001b[0m\u001b[0mstr\u001b[0m\u001b[0;34m.\u001b[0m\u001b[0mreplace\u001b[0m\u001b[0;34m(\u001b[0m\u001b[0;34m\" \"\u001b[0m\u001b[0;34m,\u001b[0m\u001b[0;34m\"\"\u001b[0m\u001b[0;34m)\u001b[0m\u001b[0;34m\u001b[0m\u001b[0;34m\u001b[0m\u001b[0m\n\u001b[1;32m      3\u001b[0m \u001b[0mLC05\u001b[0m\u001b[0;34m[\u001b[0m\u001b[0;34m'rl'\u001b[0m\u001b[0;34m]\u001b[0m \u001b[0;34m=\u001b[0m \u001b[0mpd\u001b[0m\u001b[0;34m.\u001b[0m\u001b[0mto_numeric\u001b[0m\u001b[0;34m(\u001b[0m\u001b[0mLC05\u001b[0m\u001b[0;34m[\u001b[0m\u001b[0;34m'rl'\u001b[0m\u001b[0;34m]\u001b[0m\u001b[0;34m)\u001b[0m\u001b[0;34m\u001b[0m\u001b[0;34m\u001b[0m\u001b[0m\n\u001b[1;32m      4\u001b[0m \u001b[0mLC05\u001b[0m\u001b[0;34m[\u001b[0m\u001b[0;34m'n1'\u001b[0m\u001b[0;34m]\u001b[0m \u001b[0;34m=\u001b[0m \u001b[0mLC05\u001b[0m\u001b[0;34m[\u001b[0m\u001b[0;34m'n1'\u001b[0m\u001b[0;34m]\u001b[0m\u001b[0;34m.\u001b[0m\u001b[0mstr\u001b[0m\u001b[0;34m.\u001b[0m\u001b[0mreplace\u001b[0m\u001b[0;34m(\u001b[0m\u001b[0;34m\"[\"\u001b[0m\u001b[0;34m,\u001b[0m\u001b[0;34m\"\"\u001b[0m\u001b[0;34m)\u001b[0m\u001b[0;34m\u001b[0m\u001b[0;34m\u001b[0m\u001b[0m\n\u001b[1;32m      5\u001b[0m \u001b[0mLC05\u001b[0m\u001b[0;34m[\u001b[0m\u001b[0;34m'n1'\u001b[0m\u001b[0;34m]\u001b[0m \u001b[0;34m=\u001b[0m \u001b[0mLC05\u001b[0m\u001b[0;34m[\u001b[0m\u001b[0;34m'n1'\u001b[0m\u001b[0;34m]\u001b[0m\u001b[0;34m.\u001b[0m\u001b[0mstr\u001b[0m\u001b[0;34m.\u001b[0m\u001b[0mreplace\u001b[0m\u001b[0;34m(\u001b[0m\u001b[0;34m\" \"\u001b[0m\u001b[0;34m,\u001b[0m\u001b[0;34m\"\"\u001b[0m\u001b[0;34m)\u001b[0m\u001b[0;34m\u001b[0m\u001b[0;34m\u001b[0m\u001b[0m\n",
      "\u001b[0;32m/home/bmil/snap/jupyter/common/lib/python3.7/site-packages/pandas/core/generic.py\u001b[0m in \u001b[0;36m__getattr__\u001b[0;34m(self, name)\u001b[0m\n\u001b[1;32m   5130\u001b[0m             \u001b[0;32mor\u001b[0m \u001b[0mname\u001b[0m \u001b[0;32min\u001b[0m \u001b[0mself\u001b[0m\u001b[0;34m.\u001b[0m\u001b[0m_accessors\u001b[0m\u001b[0;34m\u001b[0m\u001b[0;34m\u001b[0m\u001b[0m\n\u001b[1;32m   5131\u001b[0m         ):\n\u001b[0;32m-> 5132\u001b[0;31m             \u001b[0;32mreturn\u001b[0m \u001b[0mobject\u001b[0m\u001b[0;34m.\u001b[0m\u001b[0m__getattribute__\u001b[0m\u001b[0;34m(\u001b[0m\u001b[0mself\u001b[0m\u001b[0;34m,\u001b[0m \u001b[0mname\u001b[0m\u001b[0;34m)\u001b[0m\u001b[0;34m\u001b[0m\u001b[0;34m\u001b[0m\u001b[0m\n\u001b[0m\u001b[1;32m   5133\u001b[0m         \u001b[0;32melse\u001b[0m\u001b[0;34m:\u001b[0m\u001b[0;34m\u001b[0m\u001b[0;34m\u001b[0m\u001b[0m\n\u001b[1;32m   5134\u001b[0m             \u001b[0;32mif\u001b[0m \u001b[0mself\u001b[0m\u001b[0;34m.\u001b[0m\u001b[0m_info_axis\u001b[0m\u001b[0;34m.\u001b[0m\u001b[0m_can_hold_identifiers_and_holds_name\u001b[0m\u001b[0;34m(\u001b[0m\u001b[0mname\u001b[0m\u001b[0;34m)\u001b[0m\u001b[0;34m:\u001b[0m\u001b[0;34m\u001b[0m\u001b[0;34m\u001b[0m\u001b[0m\n",
      "\u001b[0;32m/home/bmil/snap/jupyter/common/lib/python3.7/site-packages/pandas/core/accessor.py\u001b[0m in \u001b[0;36m__get__\u001b[0;34m(self, obj, cls)\u001b[0m\n\u001b[1;32m    185\u001b[0m             \u001b[0;31m# we're accessing the attribute of the class, i.e., Dataset.geo\u001b[0m\u001b[0;34m\u001b[0m\u001b[0;34m\u001b[0m\u001b[0;34m\u001b[0m\u001b[0m\n\u001b[1;32m    186\u001b[0m             \u001b[0;32mreturn\u001b[0m \u001b[0mself\u001b[0m\u001b[0;34m.\u001b[0m\u001b[0m_accessor\u001b[0m\u001b[0;34m\u001b[0m\u001b[0;34m\u001b[0m\u001b[0m\n\u001b[0;32m--> 187\u001b[0;31m         \u001b[0maccessor_obj\u001b[0m \u001b[0;34m=\u001b[0m \u001b[0mself\u001b[0m\u001b[0;34m.\u001b[0m\u001b[0m_accessor\u001b[0m\u001b[0;34m(\u001b[0m\u001b[0mobj\u001b[0m\u001b[0;34m)\u001b[0m\u001b[0;34m\u001b[0m\u001b[0;34m\u001b[0m\u001b[0m\n\u001b[0m\u001b[1;32m    188\u001b[0m         \u001b[0;31m# Replace the property with the accessor object. Inspired by:\u001b[0m\u001b[0;34m\u001b[0m\u001b[0;34m\u001b[0m\u001b[0;34m\u001b[0m\u001b[0m\n\u001b[1;32m    189\u001b[0m         \u001b[0;31m# https://www.pydanny.com/cached-property.html\u001b[0m\u001b[0;34m\u001b[0m\u001b[0;34m\u001b[0m\u001b[0;34m\u001b[0m\u001b[0m\n",
      "\u001b[0;32m/home/bmil/snap/jupyter/common/lib/python3.7/site-packages/pandas/core/strings.py\u001b[0m in \u001b[0;36m__init__\u001b[0;34m(self, data)\u001b[0m\n\u001b[1;32m   2098\u001b[0m \u001b[0;34m\u001b[0m\u001b[0m\n\u001b[1;32m   2099\u001b[0m     \u001b[0;32mdef\u001b[0m \u001b[0m__init__\u001b[0m\u001b[0;34m(\u001b[0m\u001b[0mself\u001b[0m\u001b[0;34m,\u001b[0m \u001b[0mdata\u001b[0m\u001b[0;34m)\u001b[0m\u001b[0;34m:\u001b[0m\u001b[0;34m\u001b[0m\u001b[0;34m\u001b[0m\u001b[0m\n\u001b[0;32m-> 2100\u001b[0;31m         \u001b[0mself\u001b[0m\u001b[0;34m.\u001b[0m\u001b[0m_inferred_dtype\u001b[0m \u001b[0;34m=\u001b[0m \u001b[0mself\u001b[0m\u001b[0;34m.\u001b[0m\u001b[0m_validate\u001b[0m\u001b[0;34m(\u001b[0m\u001b[0mdata\u001b[0m\u001b[0;34m)\u001b[0m\u001b[0;34m\u001b[0m\u001b[0;34m\u001b[0m\u001b[0m\n\u001b[0m\u001b[1;32m   2101\u001b[0m         \u001b[0mself\u001b[0m\u001b[0;34m.\u001b[0m\u001b[0m_is_categorical\u001b[0m \u001b[0;34m=\u001b[0m \u001b[0mis_categorical_dtype\u001b[0m\u001b[0;34m(\u001b[0m\u001b[0mdata\u001b[0m\u001b[0;34m.\u001b[0m\u001b[0mdtype\u001b[0m\u001b[0;34m)\u001b[0m\u001b[0;34m\u001b[0m\u001b[0;34m\u001b[0m\u001b[0m\n\u001b[1;32m   2102\u001b[0m         \u001b[0mself\u001b[0m\u001b[0;34m.\u001b[0m\u001b[0m_is_string\u001b[0m \u001b[0;34m=\u001b[0m \u001b[0mdata\u001b[0m\u001b[0;34m.\u001b[0m\u001b[0mdtype\u001b[0m\u001b[0;34m.\u001b[0m\u001b[0mname\u001b[0m \u001b[0;34m==\u001b[0m \u001b[0;34m\"string\"\u001b[0m\u001b[0;34m\u001b[0m\u001b[0;34m\u001b[0m\u001b[0m\n",
      "\u001b[0;32m/home/bmil/snap/jupyter/common/lib/python3.7/site-packages/pandas/core/strings.py\u001b[0m in \u001b[0;36m_validate\u001b[0;34m(data)\u001b[0m\n\u001b[1;32m   2155\u001b[0m \u001b[0;34m\u001b[0m\u001b[0m\n\u001b[1;32m   2156\u001b[0m         \u001b[0;32mif\u001b[0m \u001b[0minferred_dtype\u001b[0m \u001b[0;32mnot\u001b[0m \u001b[0;32min\u001b[0m \u001b[0mallowed_types\u001b[0m\u001b[0;34m:\u001b[0m\u001b[0;34m\u001b[0m\u001b[0;34m\u001b[0m\u001b[0m\n\u001b[0;32m-> 2157\u001b[0;31m             \u001b[0;32mraise\u001b[0m \u001b[0mAttributeError\u001b[0m\u001b[0;34m(\u001b[0m\u001b[0;34m\"Can only use .str accessor with string values!\"\u001b[0m\u001b[0;34m)\u001b[0m\u001b[0;34m\u001b[0m\u001b[0;34m\u001b[0m\u001b[0m\n\u001b[0m\u001b[1;32m   2158\u001b[0m         \u001b[0;32mreturn\u001b[0m \u001b[0minferred_dtype\u001b[0m\u001b[0;34m\u001b[0m\u001b[0;34m\u001b[0m\u001b[0m\n\u001b[1;32m   2159\u001b[0m \u001b[0;34m\u001b[0m\u001b[0m\n",
      "\u001b[0;31mAttributeError\u001b[0m: Can only use .str accessor with string values!"
     ]
    }
   ],
   "source": [
    "LC05['rl'] = LC05['rl'].str.replace(\"]\",\"\")\n",
    "LC05['rl'] = LC05['rl'].str.replace(\" \",\"\")\n",
    "LC05['rl'] = pd.to_numeric(LC05['rl'])\n",
    "LC05['n1'] = LC05['n1'].str.replace(\"[\",\"\")\n",
    "LC05['n1'] = LC05['n1'].str.replace(\" \",\"\")\n",
    "LC05['n1'] = pd.to_numeric(LC05['n1'])\n",
    "\n",
    "LC10['rl'] = LC10['rl'].str.replace(\"]\",\"\")\n",
    "LC10['rl'] = LC10['rl'].str.replace(\" \",\"\")\n",
    "LC10['rl'] = pd.to_numeric(LC10['rl'])\n",
    "LC10['n1'] = LC10['n1'].str.replace(\"[\",\"\")\n",
    "LC10['n1'] = LC10['n1'].str.replace(\" \",\"\")\n",
    "LC10['n1'] = pd.to_numeric(LC10['n1'])\n",
    "\n",
    "LC15['rl'] = LC15['rl'].str.replace(\"]\",\"\")\n",
    "LC15['rl'] = LC15['rl'].str.replace(\" \",\"\")\n",
    "LC15['rl'] = pd.to_numeric(LC15['rl'])\n",
    "LC15['n1'] = LC15['n1'].str.replace(\"[\",\"\")\n",
    "LC15['n1'] = LC15['n1'].str.replace(\" \",\"\")\n",
    "LC15['n1'] = pd.to_numeric(LC15['n1'])\n",
    "\n",
    "LC20['rl'] = LC20['rl'].str.replace(\"]\",\"\")\n",
    "LC20['rl'] = LC20['rl'].str.replace(\" \",\"\")\n",
    "LC20['rl'] = pd.to_numeric(LC20['rl'])\n",
    "LC20['n1'] = LC20['n1'].str.replace(\"[\",\"\")\n",
    "LC20['n1'] = LC20['n1'].str.replace(\" \",\"\")\n",
    "LC20['n1'] = pd.to_numeric(LC20['n1'])\n",
    "\n",
    "LC25['rl'] = LC25['rl'].str.replace(\"]\",\"\")\n",
    "LC25['rl'] = LC25['rl'].str.replace(\" \",\"\")\n",
    "LC25['rl'] = pd.to_numeric(LC25['rl'])\n",
    "LC25['n1'] = LC25['n1'].str.replace(\"[\",\"\")\n",
    "LC25['n1'] = LC25['n1'].str.replace(\" \",\"\")\n",
    "LC25['n1'] = pd.to_numeric(LC25['n1'])"
   ]
  },
  {
   "cell_type": "code",
   "execution_count": 7,
   "metadata": {},
   "outputs": [],
   "source": [
    "LC05_non = LC05.drop(['rl'],axis=1)\n",
    "LC10_non = LC10.drop(['rl'],axis=1)\n",
    "LC15_non = LC15.drop(['rl'],axis=1)\n",
    "LC20_non = LC20.drop(['rl'],axis=1)\n",
    "LC25_non = LC25.drop(['rl'],axis=1)"
   ]
  },
  {
   "cell_type": "code",
   "execution_count": 9,
   "metadata": {},
   "outputs": [],
   "source": [
    "histo05 = []\n",
    "for i in range(1,19):\n",
    "     histo05 += [round(j,2) for j in LC05_non['n{}'.format(i)]]\n",
    "\n",
    "histo10 = []\n",
    "for i in range(1,19):\n",
    "     histo10 += [round(j,2) for j in LC10_non['n{}'.format(i)]]\n",
    "        \n",
    "histo15 = []\n",
    "for i in range(1,19):\n",
    "     histo15 += [round(j,2) for j in LC15_non['n{}'.format(i)]]\n",
    "\n",
    "histo20 = []\n",
    "for i in range(1,19):\n",
    "     histo20 += [round(j,2) for j in LC20_non['n{}'.format(i)]]\n",
    "        \n",
    "histo25 = []\n",
    "for i in range(1,19):\n",
    "     histo25 += [round(j,2) for j in LC25_non['n{}'.format(i)]]"
   ]
  },
  {
   "cell_type": "code",
   "execution_count": 95,
   "metadata": {},
   "outputs": [
    {
     "name": "stdout",
     "output_type": "stream",
     "text": [
      "0.008264814814814813 0.07290925579903978 0.008331666666666668 0.15129763333055554 0.008396481481481482 0.2826930972468793 0.008325555555555555 0.47380977401358026 0.008204074074074075 0.7061047857611797\n"
     ]
    }
   ],
   "source": [
    "mu = np.mean(histo05)\n",
    "sigma = np.var(histo05)\n",
    "\n",
    "mu2 = np.mean(histo10)\n",
    "sigma2 = np.var(histo10)\n",
    "\n",
    "mu3 = np.mean(histo15)\n",
    "sigma3 = np.var(histo15)\n",
    "\n",
    "mu4 = np.mean(histo20)\n",
    "sigma4 = np.var(histo20)\n",
    "\n",
    "mu5 = np.mean(histo25)\n",
    "sigma5 = np.var(histo25)\n",
    "\n",
    "\n",
    "\n",
    "print(mu,sigma,\n",
    "      mu2,sigma2,\n",
    "     mu3,sigma3,\n",
    "     mu4,sigma4,\n",
    "     mu5,sigma5)"
   ]
  },
  {
   "cell_type": "code",
   "execution_count": 3,
   "metadata": {},
   "outputs": [
    {
     "ename": "NameError",
     "evalue": "name 'histo05' is not defined",
     "output_type": "error",
     "traceback": [
      "\u001b[0;31m---------------------------------------------------------------------------\u001b[0m",
      "\u001b[0;31mNameError\u001b[0m                                 Traceback (most recent call last)",
      "\u001b[0;32m<ipython-input-3-0b5c0fd0a4e0>\u001b[0m in \u001b[0;36m<module>\u001b[0;34m\u001b[0m\n\u001b[1;32m      1\u001b[0m \u001b[0mplt\u001b[0m\u001b[0;34m.\u001b[0m\u001b[0mfigure\u001b[0m\u001b[0;34m(\u001b[0m\u001b[0mfigsize\u001b[0m\u001b[0;34m=\u001b[0m\u001b[0;34m(\u001b[0m\u001b[0;36m15\u001b[0m\u001b[0;34m,\u001b[0m\u001b[0;36m20\u001b[0m\u001b[0;34m)\u001b[0m\u001b[0;34m)\u001b[0m\u001b[0;34m\u001b[0m\u001b[0;34m\u001b[0m\u001b[0m\n\u001b[0;32m----> 2\u001b[0;31m \u001b[0mplt\u001b[0m\u001b[0;34m.\u001b[0m\u001b[0mboxplot\u001b[0m\u001b[0;34m(\u001b[0m\u001b[0;34m[\u001b[0m\u001b[0mhisto05\u001b[0m\u001b[0;34m,\u001b[0m \u001b[0mhisto10\u001b[0m\u001b[0;34m,\u001b[0m \u001b[0mhisto15\u001b[0m\u001b[0;34m,\u001b[0m \u001b[0mhisto20\u001b[0m\u001b[0;34m,\u001b[0m \u001b[0mhisto25\u001b[0m\u001b[0;34m]\u001b[0m\u001b[0;34m)\u001b[0m\u001b[0;34m\u001b[0m\u001b[0;34m\u001b[0m\u001b[0m\n\u001b[0m\u001b[1;32m      3\u001b[0m \u001b[0mplt\u001b[0m\u001b[0;34m.\u001b[0m\u001b[0mxticks\u001b[0m\u001b[0;34m(\u001b[0m\u001b[0;34m[\u001b[0m\u001b[0;36m1\u001b[0m\u001b[0;34m,\u001b[0m\u001b[0;36m2\u001b[0m\u001b[0;34m,\u001b[0m\u001b[0;36m3\u001b[0m\u001b[0;34m,\u001b[0m\u001b[0;36m4\u001b[0m\u001b[0;34m,\u001b[0m\u001b[0;36m5\u001b[0m\u001b[0;34m]\u001b[0m\u001b[0;34m,\u001b[0m\u001b[0;34m[\u001b[0m\u001b[0;34m'0.5'\u001b[0m\u001b[0;34m,\u001b[0m\u001b[0;34m'1.0'\u001b[0m\u001b[0;34m,\u001b[0m\u001b[0;34m'1.5'\u001b[0m\u001b[0;34m,\u001b[0m\u001b[0;34m'2.0'\u001b[0m\u001b[0;34m,\u001b[0m\u001b[0;34m'2.5'\u001b[0m\u001b[0;34m]\u001b[0m\u001b[0;34m,\u001b[0m\u001b[0mfontsize\u001b[0m \u001b[0;34m=\u001b[0m \u001b[0;36m15\u001b[0m\u001b[0;34m)\u001b[0m\u001b[0;34m\u001b[0m\u001b[0;34m\u001b[0m\u001b[0m\n\u001b[1;32m      4\u001b[0m \u001b[0mplt\u001b[0m\u001b[0;34m.\u001b[0m\u001b[0myticks\u001b[0m\u001b[0;34m(\u001b[0m\u001b[0mnp\u001b[0m\u001b[0;34m.\u001b[0m\u001b[0marange\u001b[0m\u001b[0;34m(\u001b[0m\u001b[0;34m-\u001b[0m\u001b[0;36m4.5\u001b[0m\u001b[0;34m,\u001b[0m\u001b[0;36m5\u001b[0m\u001b[0;34m,\u001b[0m\u001b[0;36m0.5\u001b[0m\u001b[0;34m)\u001b[0m\u001b[0;34m,\u001b[0m\u001b[0mfontsize\u001b[0m \u001b[0;34m=\u001b[0m \u001b[0;36m15\u001b[0m\u001b[0;34m)\u001b[0m\u001b[0;34m\u001b[0m\u001b[0;34m\u001b[0m\u001b[0m\n\u001b[1;32m      5\u001b[0m \u001b[0mplt\u001b[0m\u001b[0;34m.\u001b[0m\u001b[0mxlabel\u001b[0m\u001b[0;34m(\u001b[0m\u001b[0;34m'Action noise variance'\u001b[0m\u001b[0;34m,\u001b[0m\u001b[0mfontsize\u001b[0m\u001b[0;34m=\u001b[0m\u001b[0;36m20\u001b[0m\u001b[0;34m)\u001b[0m\u001b[0;34m\u001b[0m\u001b[0;34m\u001b[0m\u001b[0m\n",
      "\u001b[0;31mNameError\u001b[0m: name 'histo05' is not defined"
     ]
    },
    {
     "data": {
      "text/plain": [
       "<Figure size 1080x1440 with 0 Axes>"
      ]
     },
     "metadata": {},
     "output_type": "display_data"
    }
   ],
   "source": [
    "plt.figure(figsize=(15,20))\n",
    "plt.boxplot([histo05, histo10, histo15, histo20, histo25])\n",
    "plt.xticks([1,2,3,4,5],['0.5','1.0','1.5','2.0','2.5'],fontsize = 15)\n",
    "plt.yticks(np.arange(-4.5,5,0.5),fontsize = 15)\n",
    "plt.xlabel('Action noise variance',fontsize=20)\n",
    "plt.ylabel('Acceleration',fontsize=25)"
   ]
  },
  {
   "cell_type": "code",
   "execution_count": 75,
   "metadata": {},
   "outputs": [
    {
     "data": {
      "text/plain": [
       "Text(0, 0.5, 'Acceleration')"
      ]
     },
     "execution_count": 75,
     "metadata": {},
     "output_type": "execute_result"
    },
    {
     "data": {
      "image/png": "[encoded data removed]",
      "text/plain": [
       "<Figure size 1080x1440 with 1 Axes>"
      ]
     },
     "metadata": {
      "needs_background": "light"
     },
     "output_type": "display_data"
    }
   ],
   "source": [
    "plt.figure(figsize=(15,20))\n",
    "plt.violinplot([histo05, histo10, histo15, histo20, histo25])\n",
    "plt.xticks([1,2,3,4,5],['0.5','1.0','1.5','2.0','2.5'],fontsize = 15)\n",
    "plt.yticks(np.arange(-4.5,3,0.5),fontsize = 15)\n",
    "plt.xlabel('Action noise variance',fontsize=20)\n",
    "plt.ylabel('Acceleration',fontsize=25)"
   ]
  },
  {
   "cell_type": "code",
   "execution_count": null,
   "metadata": {},
   "outputs": [],
   "source": [
    "TDLLdf = pd.DataFrame(TDL33, columns=['Road entropy ($e^H$)'])\n",
    "TDLLdf['Action noise variance of non-AVs'] = pd.DataFrame(ANV3)"
   ]
  },
  {
   "cell_type": "code",
   "execution_count": 68,
   "metadata": {},
   "outputs": [],
   "source": [
    "# ACCdf = pd.DataFrame([histo05,histo10,histo15,histo20,histo25], columns = ['0.5','1.0','1.5','2.0','2.5'])\n",
    "ACC05df = pd.DataFrame(histo05, columns = ['Accleration1'])\n",
    "ACC10df = pd.DataFrame(histo10, columns = ['Accleration2'])\n",
    "ACC15df = pd.DataFrame(histo15, columns = ['Accleration3'])\n",
    "ACC20df = pd.DataFrame(histo20, columns = ['Accleration4'])\n",
    "ACC25df = pd.DataFrame(histo25, columns = ['Accleration5'])\n"
   ]
  },
  {
   "cell_type": "code",
   "execution_count": 69,
   "metadata": {},
   "outputs": [],
   "source": [
    "ACCdf = pd.DataFrame"
   ]
  },
  {
   "cell_type": "code",
   "execution_count": 70,
   "metadata": {},
   "outputs": [],
   "source": [
    "ACCdf = pd.concat([ACC05df,ACC10df,ACC15df,ACC20df,ACC25df],axis=1)"
   ]
  },
  {
   "cell_type": "code",
   "execution_count": 71,
   "metadata": {},
   "outputs": [
    {
     "data": {
      "text/html": [
       "<div>\n",
       "<style scoped>\n",
       "    .dataframe tbody tr th:only-of-type {\n",
       "        vertical-align: middle;\n",
       "    }\n",
       "\n",
       "    .dataframe tbody tr th {\n",
       "        vertical-align: top;\n",
       "    }\n",
       "\n",
       "    .dataframe thead th {\n",
       "        text-align: right;\n",
       "    }\n",
       "</style>\n",
       "<table border=\"1\" class=\"dataframe\">\n",
       "  <thead>\n",
       "    <tr style=\"text-align: right;\">\n",
       "      <th></th>\n",
       "      <th>Accleration1</th>\n",
       "      <th>Accleration2</th>\n",
       "      <th>Accleration3</th>\n",
       "      <th>Accleration4</th>\n",
       "      <th>Accleration5</th>\n",
       "    </tr>\n",
       "  </thead>\n",
       "  <tbody>\n",
       "    <tr>\n",
       "      <th>0</th>\n",
       "      <td>1.04</td>\n",
       "      <td>0.78</td>\n",
       "      <td>1.62</td>\n",
       "      <td>1.16</td>\n",
       "      <td>0.29</td>\n",
       "    </tr>\n",
       "    <tr>\n",
       "      <th>1</th>\n",
       "      <td>1.14</td>\n",
       "      <td>0.89</td>\n",
       "      <td>0.86</td>\n",
       "      <td>0.29</td>\n",
       "      <td>1.37</td>\n",
       "    </tr>\n",
       "    <tr>\n",
       "      <th>2</th>\n",
       "      <td>1.16</td>\n",
       "      <td>1.19</td>\n",
       "      <td>0.38</td>\n",
       "      <td>1.61</td>\n",
       "      <td>0.40</td>\n",
       "    </tr>\n",
       "    <tr>\n",
       "      <th>3</th>\n",
       "      <td>0.86</td>\n",
       "      <td>0.72</td>\n",
       "      <td>0.56</td>\n",
       "      <td>0.73</td>\n",
       "      <td>1.00</td>\n",
       "    </tr>\n",
       "    <tr>\n",
       "      <th>4</th>\n",
       "      <td>0.76</td>\n",
       "      <td>0.38</td>\n",
       "      <td>1.34</td>\n",
       "      <td>1.44</td>\n",
       "      <td>0.63</td>\n",
       "    </tr>\n",
       "    <tr>\n",
       "      <th>...</th>\n",
       "      <td>...</td>\n",
       "      <td>...</td>\n",
       "      <td>...</td>\n",
       "      <td>...</td>\n",
       "      <td>...</td>\n",
       "    </tr>\n",
       "    <tr>\n",
       "      <th>53995</th>\n",
       "      <td>-0.12</td>\n",
       "      <td>-0.01</td>\n",
       "      <td>0.10</td>\n",
       "      <td>0.22</td>\n",
       "      <td>-0.34</td>\n",
       "    </tr>\n",
       "    <tr>\n",
       "      <th>53996</th>\n",
       "      <td>0.13</td>\n",
       "      <td>0.42</td>\n",
       "      <td>0.76</td>\n",
       "      <td>-0.53</td>\n",
       "      <td>0.61</td>\n",
       "    </tr>\n",
       "    <tr>\n",
       "      <th>53997</th>\n",
       "      <td>-0.32</td>\n",
       "      <td>-0.31</td>\n",
       "      <td>-0.17</td>\n",
       "      <td>-0.11</td>\n",
       "      <td>0.09</td>\n",
       "    </tr>\n",
       "    <tr>\n",
       "      <th>53998</th>\n",
       "      <td>0.09</td>\n",
       "      <td>0.11</td>\n",
       "      <td>-0.72</td>\n",
       "      <td>0.48</td>\n",
       "      <td>-0.37</td>\n",
       "    </tr>\n",
       "    <tr>\n",
       "      <th>53999</th>\n",
       "      <td>-0.02</td>\n",
       "      <td>0.23</td>\n",
       "      <td>-0.52</td>\n",
       "      <td>0.26</td>\n",
       "      <td>-0.86</td>\n",
       "    </tr>\n",
       "  </tbody>\n",
       "</table>\n",
       "<p>54000 rows × 5 columns</p>\n",
       "</div>"
      ],
      "text/plain": [
       "       Accleration1  Accleration2  Accleration3  Accleration4  Accleration5\n",
       "0              1.04          0.78          1.62          1.16          0.29\n",
       "1              1.14          0.89          0.86          0.29          1.37\n",
       "2              1.16          1.19          0.38          1.61          0.40\n",
       "3              0.86          0.72          0.56          0.73          1.00\n",
       "4              0.76          0.38          1.34          1.44          0.63\n",
       "...             ...           ...           ...           ...           ...\n",
       "53995         -0.12         -0.01          0.10          0.22         -0.34\n",
       "53996          0.13          0.42          0.76         -0.53          0.61\n",
       "53997         -0.32         -0.31         -0.17         -0.11          0.09\n",
       "53998          0.09          0.11         -0.72          0.48         -0.37\n",
       "53999         -0.02          0.23         -0.52          0.26         -0.86\n",
       "\n",
       "[54000 rows x 5 columns]"
      ]
     },
     "execution_count": 71,
     "metadata": {},
     "output_type": "execute_result"
    }
   ],
   "source": [
    "ACCdf"
   ]
  },
  {
   "cell_type": "code",
   "execution_count": 48,
   "metadata": {
    "scrolled": true
   },
   "outputs": [
    {
     "data": {
      "text/plain": [
       "<AxesSubplot:xlabel='Accleration', ylabel='Count'>"
      ]
     },
     "execution_count": 48,
     "metadata": {},
     "output_type": "execute_result"
    },
    {
     "data": {
      "image/png": "[encoded data removed]",
      "text/plain": [
       "<Figure size 432x288 with 1 Axes>"
      ]
     },
     "metadata": {
      "needs_background": "light"
     },
     "output_type": "display_data"
    }
   ],
   "source": [
    "sns.histplot(x=ACC15df['Accleration'])"
   ]
  },
  {
   "cell_type": "code",
   "execution_count": 90,
   "metadata": {},
   "outputs": [
    {
     "data": {
      "text/plain": [
       "<AxesSubplot:xlabel='Accleration5', ylabel='Count'>"
      ]
     },
     "execution_count": 90,
     "metadata": {},
     "output_type": "execute_result"
    },
    {
     "data": {
      "image/png": "[encoded data removed]",
      "text/plain": [
       "<Figure size 432x288 with 5 Axes>"
      ]
     },
     "metadata": {
      "needs_background": "light"
     },
     "output_type": "display_data"
    }
   ],
   "source": [
    "fig, ax = plt.subplots(ncols=5,)\n",
    "sns.histplot(x=ACCdf['Accleration1'],ax=ax[0])\n",
    "sns.histplot(x=ACCdf['Accleration2'],ax=ax[1])\n",
    "sns.histplot(x=ACCdf['Accleration3'],ax=ax[2])\n",
    "sns.histplot(x=ACCdf['Accleration4'],ax=ax[3])\n",
    "sns.histplot(x=ACCdf['Accleration5'],ax=ax[4])"
   ]
  },
  {
   "cell_type": "code",
   "execution_count": 74,
   "metadata": {},
   "outputs": [
    {
     "data": {
      "text/plain": [
       "<AxesSubplot:ylabel='Accleration1'>"
      ]
     },
     "execution_count": 74,
     "metadata": {},
     "output_type": "execute_result"
    },
    {
     "data": {
      "image/png": "[encoded data removed]",
      "text/plain": [
       "<Figure size 432x288 with 1 Axes>"
      ]
     },
     "metadata": {
      "needs_background": "light"
     },
     "output_type": "display_data"
    }
   ],
   "source": [
    "plt.violinplot"
   ]
  },
  {
   "cell_type": "code",
   "execution_count": null,
   "metadata": {},
   "outputs": [],
   "source": []
  }
 ],
 "metadata": {
  "kernelspec": {
   "display_name": "Python 3",
   "language": "python",
   "name": "python3"
  },
  "language_info": {
   "codemirror_mode": {
    "name": "ipython",
    "version": 3
   },
   "file_extension": ".py",
   "mimetype": "text/x-python",
   "name": "python",
   "nbconvert_exporter": "python",
   "pygments_lexer": "ipython3",
   "version": "3.7.3"
  }
 },
 "nbformat": 4,
 "nbformat_minor": 4
}
