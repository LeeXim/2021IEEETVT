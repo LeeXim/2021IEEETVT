{
 "cells": [
  {
   "cell_type": "code",
   "execution_count": 14,
   "metadata": {},
   "outputs": [],
   "source": [
    "import pandas as pd\n",
    "import numpy as np\n",
    "import matplotlib\n",
    "from matplotlib import pyplot as plt\n",
    "import matplotlib.pylab as pylab\n",
    "import matplotlib.ticker as ticker\n",
    "\n",
    "from collections import Counter\n",
    "from scipy.interpolate import make_interp_spline, BSpline\n",
    "import seaborn as sns"
   ]
  },
  {
   "cell_type": "markdown",
   "metadata": {},
   "source": [
    "# DATA SAMPLING"
   ]
  },
  {
   "cell_type": "code",
   "execution_count": 15,
   "metadata": {},
   "outputs": [
    {
     "ename": "FileNotFoundError",
     "evalue": "[Errno 2] No such file or directory: './TD3data/01TD330020210908095908586'",
     "output_type": "error",
     "traceback": [
      "\u001b[0;31m---------------------------------------------------------------------------\u001b[0m",
      "\u001b[0;31mFileNotFoundError\u001b[0m                         Traceback (most recent call last)",
      "\u001b[0;32m<ipython-input-15-7ffaf600cf88>\u001b[0m in \u001b[0;36m<module>\u001b[0;34m\u001b[0m\n\u001b[1;32m      1\u001b[0m TD01 = pd.read_csv(\"./TD3data/01TD330020210908095908586\", names=['n1','n2','n3','n4','n5','n6','n7','n8',\n\u001b[1;32m      2\u001b[0m                                                \u001b[0;34m'n9'\u001b[0m\u001b[0;34m,\u001b[0m\u001b[0;34m'n10'\u001b[0m\u001b[0;34m,\u001b[0m\u001b[0;34m'n11'\u001b[0m\u001b[0;34m,\u001b[0m\u001b[0;34m'n12'\u001b[0m\u001b[0;34m,\u001b[0m\u001b[0;34m'n13'\u001b[0m\u001b[0;34m,\u001b[0m\u001b[0;34m'n14'\u001b[0m\u001b[0;34m,\u001b[0m\u001b[0;34m'n15'\u001b[0m\u001b[0;34m,\u001b[0m\u001b[0;34m'n16'\u001b[0m\u001b[0;34m,\u001b[0m\u001b[0;34m\u001b[0m\u001b[0;34m\u001b[0m\u001b[0m\n\u001b[0;32m----> 3\u001b[0;31m                                                'n17', 'n18','rl'])\n\u001b[0m\u001b[1;32m      4\u001b[0m TD02 = pd.read_csv(\"./TD3data/02TD330020210908095908586\", names=['n1','n2','n3','n4','n5','n6','n7','n8',\n\u001b[1;32m      5\u001b[0m                                                \u001b[0;34m'n9'\u001b[0m\u001b[0;34m,\u001b[0m\u001b[0;34m'n10'\u001b[0m\u001b[0;34m,\u001b[0m\u001b[0;34m'n11'\u001b[0m\u001b[0;34m,\u001b[0m\u001b[0;34m'n12'\u001b[0m\u001b[0;34m,\u001b[0m\u001b[0;34m'n13'\u001b[0m\u001b[0;34m,\u001b[0m\u001b[0;34m'n14'\u001b[0m\u001b[0;34m,\u001b[0m\u001b[0;34m'n15'\u001b[0m\u001b[0;34m,\u001b[0m\u001b[0;34m'n16'\u001b[0m\u001b[0;34m,\u001b[0m\u001b[0;34m\u001b[0m\u001b[0;34m\u001b[0m\u001b[0m\n",
      "\u001b[0;32m~/anaconda3/lib/python3.7/site-packages/pandas/io/parsers.py\u001b[0m in \u001b[0;36mread_csv\u001b[0;34m(filepath_or_buffer, sep, delimiter, header, names, index_col, usecols, squeeze, prefix, mangle_dupe_cols, dtype, engine, converters, true_values, false_values, skipinitialspace, skiprows, skipfooter, nrows, na_values, keep_default_na, na_filter, verbose, skip_blank_lines, parse_dates, infer_datetime_format, keep_date_col, date_parser, dayfirst, cache_dates, iterator, chunksize, compression, thousands, decimal, lineterminator, quotechar, quoting, doublequote, escapechar, comment, encoding, dialect, error_bad_lines, warn_bad_lines, delim_whitespace, low_memory, memory_map, float_precision)\u001b[0m\n\u001b[1;32m    684\u001b[0m     )\n\u001b[1;32m    685\u001b[0m \u001b[0;34m\u001b[0m\u001b[0m\n\u001b[0;32m--> 686\u001b[0;31m     \u001b[0;32mreturn\u001b[0m \u001b[0m_read\u001b[0m\u001b[0;34m(\u001b[0m\u001b[0mfilepath_or_buffer\u001b[0m\u001b[0;34m,\u001b[0m \u001b[0mkwds\u001b[0m\u001b[0;34m)\u001b[0m\u001b[0;34m\u001b[0m\u001b[0;34m\u001b[0m\u001b[0m\n\u001b[0m\u001b[1;32m    687\u001b[0m \u001b[0;34m\u001b[0m\u001b[0m\n\u001b[1;32m    688\u001b[0m \u001b[0;34m\u001b[0m\u001b[0m\n",
      "\u001b[0;32m~/anaconda3/lib/python3.7/site-packages/pandas/io/parsers.py\u001b[0m in \u001b[0;36m_read\u001b[0;34m(filepath_or_buffer, kwds)\u001b[0m\n\u001b[1;32m    450\u001b[0m \u001b[0;34m\u001b[0m\u001b[0m\n\u001b[1;32m    451\u001b[0m     \u001b[0;31m# Create the parser.\u001b[0m\u001b[0;34m\u001b[0m\u001b[0;34m\u001b[0m\u001b[0;34m\u001b[0m\u001b[0m\n\u001b[0;32m--> 452\u001b[0;31m     \u001b[0mparser\u001b[0m \u001b[0;34m=\u001b[0m \u001b[0mTextFileReader\u001b[0m\u001b[0;34m(\u001b[0m\u001b[0mfp_or_buf\u001b[0m\u001b[0;34m,\u001b[0m \u001b[0;34m**\u001b[0m\u001b[0mkwds\u001b[0m\u001b[0;34m)\u001b[0m\u001b[0;34m\u001b[0m\u001b[0;34m\u001b[0m\u001b[0m\n\u001b[0m\u001b[1;32m    453\u001b[0m \u001b[0;34m\u001b[0m\u001b[0m\n\u001b[1;32m    454\u001b[0m     \u001b[0;32mif\u001b[0m \u001b[0mchunksize\u001b[0m \u001b[0;32mor\u001b[0m \u001b[0miterator\u001b[0m\u001b[0;34m:\u001b[0m\u001b[0;34m\u001b[0m\u001b[0;34m\u001b[0m\u001b[0m\n",
      "\u001b[0;32m~/anaconda3/lib/python3.7/site-packages/pandas/io/parsers.py\u001b[0m in \u001b[0;36m__init__\u001b[0;34m(self, f, engine, **kwds)\u001b[0m\n\u001b[1;32m    934\u001b[0m             \u001b[0mself\u001b[0m\u001b[0;34m.\u001b[0m\u001b[0moptions\u001b[0m\u001b[0;34m[\u001b[0m\u001b[0;34m\"has_index_names\"\u001b[0m\u001b[0;34m]\u001b[0m \u001b[0;34m=\u001b[0m \u001b[0mkwds\u001b[0m\u001b[0;34m[\u001b[0m\u001b[0;34m\"has_index_names\"\u001b[0m\u001b[0;34m]\u001b[0m\u001b[0;34m\u001b[0m\u001b[0;34m\u001b[0m\u001b[0m\n\u001b[1;32m    935\u001b[0m \u001b[0;34m\u001b[0m\u001b[0m\n\u001b[0;32m--> 936\u001b[0;31m         \u001b[0mself\u001b[0m\u001b[0;34m.\u001b[0m\u001b[0m_make_engine\u001b[0m\u001b[0;34m(\u001b[0m\u001b[0mself\u001b[0m\u001b[0;34m.\u001b[0m\u001b[0mengine\u001b[0m\u001b[0;34m)\u001b[0m\u001b[0;34m\u001b[0m\u001b[0;34m\u001b[0m\u001b[0m\n\u001b[0m\u001b[1;32m    937\u001b[0m \u001b[0;34m\u001b[0m\u001b[0m\n\u001b[1;32m    938\u001b[0m     \u001b[0;32mdef\u001b[0m \u001b[0mclose\u001b[0m\u001b[0;34m(\u001b[0m\u001b[0mself\u001b[0m\u001b[0;34m)\u001b[0m\u001b[0;34m:\u001b[0m\u001b[0;34m\u001b[0m\u001b[0;34m\u001b[0m\u001b[0m\n",
      "\u001b[0;32m~/anaconda3/lib/python3.7/site-packages/pandas/io/parsers.py\u001b[0m in \u001b[0;36m_make_engine\u001b[0;34m(self, engine)\u001b[0m\n\u001b[1;32m   1166\u001b[0m     \u001b[0;32mdef\u001b[0m \u001b[0m_make_engine\u001b[0m\u001b[0;34m(\u001b[0m\u001b[0mself\u001b[0m\u001b[0;34m,\u001b[0m \u001b[0mengine\u001b[0m\u001b[0;34m=\u001b[0m\u001b[0;34m\"c\"\u001b[0m\u001b[0;34m)\u001b[0m\u001b[0;34m:\u001b[0m\u001b[0;34m\u001b[0m\u001b[0;34m\u001b[0m\u001b[0m\n\u001b[1;32m   1167\u001b[0m         \u001b[0;32mif\u001b[0m \u001b[0mengine\u001b[0m \u001b[0;34m==\u001b[0m \u001b[0;34m\"c\"\u001b[0m\u001b[0;34m:\u001b[0m\u001b[0;34m\u001b[0m\u001b[0;34m\u001b[0m\u001b[0m\n\u001b[0;32m-> 1168\u001b[0;31m             \u001b[0mself\u001b[0m\u001b[0;34m.\u001b[0m\u001b[0m_engine\u001b[0m \u001b[0;34m=\u001b[0m \u001b[0mCParserWrapper\u001b[0m\u001b[0;34m(\u001b[0m\u001b[0mself\u001b[0m\u001b[0;34m.\u001b[0m\u001b[0mf\u001b[0m\u001b[0;34m,\u001b[0m \u001b[0;34m**\u001b[0m\u001b[0mself\u001b[0m\u001b[0;34m.\u001b[0m\u001b[0moptions\u001b[0m\u001b[0;34m)\u001b[0m\u001b[0;34m\u001b[0m\u001b[0;34m\u001b[0m\u001b[0m\n\u001b[0m\u001b[1;32m   1169\u001b[0m         \u001b[0;32melse\u001b[0m\u001b[0;34m:\u001b[0m\u001b[0;34m\u001b[0m\u001b[0;34m\u001b[0m\u001b[0m\n\u001b[1;32m   1170\u001b[0m             \u001b[0;32mif\u001b[0m \u001b[0mengine\u001b[0m \u001b[0;34m==\u001b[0m \u001b[0;34m\"python\"\u001b[0m\u001b[0;34m:\u001b[0m\u001b[0;34m\u001b[0m\u001b[0;34m\u001b[0m\u001b[0m\n",
      "\u001b[0;32m~/anaconda3/lib/python3.7/site-packages/pandas/io/parsers.py\u001b[0m in \u001b[0;36m__init__\u001b[0;34m(self, src, **kwds)\u001b[0m\n\u001b[1;32m   1996\u001b[0m         \u001b[0mkwds\u001b[0m\u001b[0;34m[\u001b[0m\u001b[0;34m\"usecols\"\u001b[0m\u001b[0;34m]\u001b[0m \u001b[0;34m=\u001b[0m \u001b[0mself\u001b[0m\u001b[0;34m.\u001b[0m\u001b[0musecols\u001b[0m\u001b[0;34m\u001b[0m\u001b[0;34m\u001b[0m\u001b[0m\n\u001b[1;32m   1997\u001b[0m \u001b[0;34m\u001b[0m\u001b[0m\n\u001b[0;32m-> 1998\u001b[0;31m         \u001b[0mself\u001b[0m\u001b[0;34m.\u001b[0m\u001b[0m_reader\u001b[0m \u001b[0;34m=\u001b[0m \u001b[0mparsers\u001b[0m\u001b[0;34m.\u001b[0m\u001b[0mTextReader\u001b[0m\u001b[0;34m(\u001b[0m\u001b[0msrc\u001b[0m\u001b[0;34m,\u001b[0m \u001b[0;34m**\u001b[0m\u001b[0mkwds\u001b[0m\u001b[0;34m)\u001b[0m\u001b[0;34m\u001b[0m\u001b[0;34m\u001b[0m\u001b[0m\n\u001b[0m\u001b[1;32m   1999\u001b[0m         \u001b[0mself\u001b[0m\u001b[0;34m.\u001b[0m\u001b[0munnamed_cols\u001b[0m \u001b[0;34m=\u001b[0m \u001b[0mself\u001b[0m\u001b[0;34m.\u001b[0m\u001b[0m_reader\u001b[0m\u001b[0;34m.\u001b[0m\u001b[0munnamed_cols\u001b[0m\u001b[0;34m\u001b[0m\u001b[0;34m\u001b[0m\u001b[0m\n\u001b[1;32m   2000\u001b[0m \u001b[0;34m\u001b[0m\u001b[0m\n",
      "\u001b[0;32mpandas/_libs/parsers.pyx\u001b[0m in \u001b[0;36mpandas._libs.parsers.TextReader.__cinit__\u001b[0;34m()\u001b[0m\n",
      "\u001b[0;32mpandas/_libs/parsers.pyx\u001b[0m in \u001b[0;36mpandas._libs.parsers.TextReader._setup_parser_source\u001b[0;34m()\u001b[0m\n",
      "\u001b[0;31mFileNotFoundError\u001b[0m: [Errno 2] No such file or directory: './TD3data/01TD330020210908095908586'"
     ]
    }
   ],
   "source": [
    "TD01 = pd.read_csv(\"./TD3data/01TD330020210908095908586\", names=['n1','n2','n3','n4','n5','n6','n7','n8',\n",
    "                                               'n9','n10','n11','n12','n13','n14','n15','n16',\n",
    "                                               'n17', 'n18','rl'])\n",
    "TD02 = pd.read_csv(\"./TD3data/02TD330020210908095908586\", names=['n1','n2','n3','n4','n5','n6','n7','n8',\n",
    "                                               'n9','n10','n11','n12','n13','n14','n15','n16',\n",
    "                                               'n17', 'n18','rl'])\n",
    "TD03 = pd.read_csv(\"./TD3data/03TD330020210908095908586\", names=['n1','n2','n3','n4','n5','n6','n7','n8',\n",
    "                                               'n9','n10','n11','n12','n13','n14','n15','n16',\n",
    "                                               'n17', 'n18','rl'])\n",
    "TD04 = pd.read_csv(\"./TD3data/04TD330020210908095908586\", names=['n1','n2','n3','n4','n5','n6','n7','n8',\n",
    "                                               'n9','n10','n11','n12','n13','n14','n15','n16',\n",
    "                                               'n17', 'n18','rl'])\n",
    "TD05 = pd.read_csv(\"./TD3data/TD330020210908095908586\", names=['n1','n2','n3','n4','n5','n6','n7','n8',\n",
    "                                               'n9','n10','n11','n12','n13','n14','n15','n16',\n",
    "                                               'n17', 'n18','rl'])\n",
    "TD06 = pd.read_csv(\"./TD3data/06TD330020210908095908586\", names=['n1','n2','n3','n4','n5','n6','n7','n8',\n",
    "                                               'n9','n10','n11','n12','n13','n14','n15','n16',\n",
    "                                               'n17', 'n18','rl'])\n",
    "TD07 = pd.read_csv(\"./TD3data/07TD330020210908095908586\", names=['n1','n2','n3','n4','n5','n6','n7','n8',\n",
    "                                               'n9','n10','n11','n12','n13','n14','n15','n16',\n",
    "                                               'n17', 'n18','rl'])\n",
    "TD08 = pd.read_csv(\"./TD3data/08TD330020210908095908586\", names=['n1','n2','n3','n4','n5','n6','n7','n8',\n",
    "                                               'n9','n10','n11','n12','n13','n14','n15','n16',\n",
    "                                               'n17', 'n18','rl'])\n",
    "TD09 = pd.read_csv(\"./TD3data/09TD330020210908095908586\", names=['n1','n2','n3','n4','n5','n6','n7','n8',\n",
    "                                               'n9','n10','n11','n12','n13','n14','n15','n16',\n",
    "                                               'n17', 'n18','rl'])\n",
    "TD1 = pd.read_csv(\"./TD3data/1TD330020210908095908586\", names=['n1','n2','n3','n4','n5','n6','n7','n8',\n",
    "                                               'n9','n10','n11','n12','n13','n14','n15','n16',\n",
    "                                               'n17', 'n18','rl'])\n",
    "TD15 = pd.read_csv(\"./TD3data/15TD330020210908095908586\",names=['n1','n2','n3','n4','n5','n6','n7','n8',\n",
    "                                               'n9','n10','n11','n12','n13','n14','n15','n16',\n",
    "                                               'n17', 'n18','rl'])\n",
    "TD2 = pd.read_csv(\"./TD3data/2TD330020210908095908586\", names=['n1','n2','n3','n4','n5','n6','n7','n8',\n",
    "                                               'n9','n10','n11','n12','n13','n14','n15','n16',\n",
    "                                               'n17', 'n18','rl'])\n",
    "TD25 = pd.read_csv(\"./TD3data/25TD330020210908095908586\", names=['n1','n2','n3','n4','n5','n6','n7','n8',\n",
    "                                               'n9','n10','n11','n12','n13','n14','n15','n16',\n",
    "                                               'n17', 'n18', 'rl'])\n",
    "\n",
    "\n",
    "\n",
    "\n",
    "# LC0 = pd.read_csv(\"./LC2013data/LC2013_TheAV.csv\", names=['n1','n2','n3','n4','n5','n6','n7','n8',\n",
    "#                                                'n9','n10','n11','n12','n13','n14','n15','n16',\n",
    "#                                                'n17', 'n18','rl'])\n",
    "LC01 = pd.read_csv(\"./LC2013data/LC2013_TheAV0.1.csv\", names=['n1','n2','n3','n4','n5','n6','n7','n8',\n",
    "                                               'n9','n10','n11','n12','n13','n14','n15','n16',\n",
    "                                               'n17', 'n18','rl'])\n",
    "LC02 = pd.read_csv(\"./LC2013data/LC2013_TheAV0.2.csv\", names=['n1','n2','n3','n4','n5','n6','n7','n8',\n",
    "                                               'n9','n10','n11','n12','n13','n14','n15','n16',\n",
    "                                               'n17', 'n18','rl'])\n",
    "LC03 = pd.read_csv(\"./LC2013data/LC2013_TheAV0.3.csv\", names=['n1','n2','n3','n4','n5','n6','n7','n8',\n",
    "                                               'n9','n10','n11','n12','n13','n14','n15','n16',\n",
    "                                               'n17', 'n18','rl'])\n",
    "LC04 = pd.read_csv(\"./LC2013data/LC2013_TheAV0.4.csv\", names=['n1','n2','n3','n4','n5','n6','n7','n8',\n",
    "                                               'n9','n10','n11','n12','n13','n14','n15','n16',\n",
    "                                               'n17', 'n18','rl'])\n",
    "LC05 = pd.read_csv(\"./LC2013data/LC2013_TheAV05.csv\", names=['n1','n2','n3','n4','n5','n6','n7','n8',\n",
    "                                               'n9','n10','n11','n12','n13','n14','n15','n16',\n",
    "                                               'n17', 'n18','rl'])\n",
    "LC06 = pd.read_csv(\"./LC2013data/LC2013_TheAV0.6.csv\", names=['n1','n2','n3','n4','n5','n6','n7','n8',\n",
    "                                               'n9','n10','n11','n12','n13','n14','n15','n16',\n",
    "                                               'n17', 'n18','rl'])\n",
    "LC07 = pd.read_csv(\"./LC2013data/LC2013_TheAV0.7.csv\", names=['n1','n2','n3','n4','n5','n6','n7','n8',\n",
    "                                               'n9','n10','n11','n12','n13','n14','n15','n16',\n",
    "                                               'n17', 'n18','rl'])\n",
    "LC08 = pd.read_csv(\"./LC2013data/LC2013_TheAV0.8.csv\", names=['n1','n2','n3','n4','n5','n6','n7','n8',\n",
    "                                               'n9','n10','n11','n12','n13','n14','n15','n16',\n",
    "                                               'n17', 'n18','rl'])\n",
    "LC09 = pd.read_csv(\"./LC2013data/LC2013_TheAV0.9.csv\", names=['n1','n2','n3','n4','n5','n6','n7','n8',\n",
    "                                               'n9','n10','n11','n12','n13','n14','n15','n16',\n",
    "                                               'n17', 'n18','rl'])\n",
    "LC1 = pd.read_csv(\"./LC2013data/LC2013_TheAV10.csv\", names=['n1','n2','n3','n4','n5','n6','n7','n8',\n",
    "                                               'n9','n10','n11','n12','n13','n14','n15','n16',\n",
    "                                               'n17', 'n18','rl'])\n",
    "LC2 = pd.read_csv(\"./LC2013data/LC2013_TheAV2.csv\", names=['n1','n2','n3','n4','n5','n6','n7','n8',\n",
    "                                               'n9','n10','n11','n12','n13','n14','n15','n16',\n",
    "                                               'n17', 'n18','rl'])\n",
    "LC15 = pd.read_csv(\"./LC2013data/LC2013_TheAV15.csv\", names=['n1','n2','n3','n4','n5','n6','n7','n8',\n",
    "                                               'n9','n10','n11','n12','n13','n14','n15','n16',\n",
    "                                               'n17', 'n18','rl'])\n",
    "LC25 = pd.read_csv(\"./LC2013data/LC2013_TheAV25.csv\", names=['n1','n2','n3','n4','n5','n6','n7','n8',\n",
    "                                               'n9','n10','n11','n12','n13','n14','n15','n16',\n",
    "                                               'n17', 'n18','rl'])\n",
    "\n",
    "N01 = pd.read_csv(\"./Nondata/LC2013_Thenon0.1.csv\", names=['n1','n2','n3','n4','n5','n6','n7','n8',\n",
    "                                               'n9','n10','n11','n12','n13','n14','n15','n16',\n",
    "                                               'n17', 'n18'])\n",
    "N02 = pd.read_csv(\"./Nondata/LC2013_Thenon0.2.csv\", names=['n1','n2','n3','n4','n5','n6','n7','n8',\n",
    "                                               'n9','n10','n11','n12','n13','n14','n15','n16',\n",
    "                                               'n17', 'n18'])\n",
    "N03 = pd.read_csv(\"./Nondata/LC2013_Thenon0.3.csv\", names=['n1','n2','n3','n4','n5','n6','n7','n8',\n",
    "                                               'n9','n10','n11','n12','n13','n14','n15','n16',\n",
    "                                               'n17', 'n18'])\n",
    "N04 = pd.read_csv(\"./Nondata/LC2013_Thenon0.4.csv\", names=['n1','n2','n3','n4','n5','n6','n7','n8',\n",
    "                                               'n9','n10','n11','n12','n13','n14','n15','n16',\n",
    "                                               'n17', 'n18'])\n",
    "N05 = pd.read_csv(\"./Nondata/LC2013_Thenon0.5.csv\", names=['n1','n2','n3','n4','n5','n6','n7','n8',\n",
    "                                               'n9','n10','n11','n12','n13','n14','n15','n16',\n",
    "                                               'n17', 'n18'])\n",
    "N06 = pd.read_csv(\"./Nondata/LC2013_Thenon0.6.csv\", names=['n1','n2','n3','n4','n5','n6','n7','n8',\n",
    "                                               'n9','n10','n11','n12','n13','n14','n15','n16',\n",
    "                                               'n17', 'n18'])\n",
    "N07 = pd.read_csv(\"./Nondata/LC2013_Thenon0.7.csv\", names=['n1','n2','n3','n4','n5','n6','n7','n8',\n",
    "                                               'n9','n10','n11','n12','n13','n14','n15','n16',\n",
    "                                               'n17', 'n18'])\n",
    "N08 = pd.read_csv(\"./Nondata/LC2013_Thenon0.8.csv\", names=['n1','n2','n3','n4','n5','n6','n7','n8',\n",
    "                                               'n9','n10','n11','n12','n13','n14','n15','n16',\n",
    "                                               'n17', 'n18'])\n",
    "N09 = pd.read_csv(\"./Nondata/LC2013_Thenon0.9.csv\", names=['n1','n2','n3','n4','n5','n6','n7','n8',\n",
    "                                               'n9','n10','n11','n12','n13','n14','n15','n16',\n",
    "                                               'n17', 'n18'])\n",
    "N1 = pd.read_csv(\"./Nondata/LC2013_Thenon1.csv\", names=['n1','n2','n3','n4','n5','n6','n7','n8',\n",
    "                                               'n9','n10','n11','n12','n13','n14','n15','n16',\n",
    "                                               'n17', 'n18'])\n",
    "N2 = pd.read_csv(\"./Nondata/LC2013_Thenon15.csv\", names=['n1','n2','n3','n4','n5','n6','n7','n8',\n",
    "                                               'n9','n10','n11','n12','n13','n14','n15','n16',\n",
    "                                               'n17', 'n18'])\n",
    "N15 = pd.read_csv(\"./Nondata/LC2013_Thenon2.csv\", names=['n1','n2','n3','n4','n5','n6','n7','n8',\n",
    "                                               'n9','n10','n11','n12','n13','n14','n15','n16',\n",
    "                                               'n17', 'n18'])\n",
    "N25 = pd.read_csv(\"./Nondata/LC2013_Thenon25.csv\", names=['n1','n2','n3','n4','n5','n6','n7','n8',\n",
    "                                               'n9','n10','n11','n12','n13','n14','n15','n16',\n",
    "                                               'n17', 'n18'])"
   ]
  },
  {
   "cell_type": "code",
   "execution_count": 16,
   "metadata": {},
   "outputs": [
    {
     "ename": "NameError",
     "evalue": "name 'TD01' is not defined",
     "output_type": "error",
     "traceback": [
      "\u001b[0;31m---------------------------------------------------------------------------\u001b[0m",
      "\u001b[0;31mNameError\u001b[0m                                 Traceback (most recent call last)",
      "\u001b[0;32m<ipython-input-16-48cb7ae65851>\u001b[0m in \u001b[0;36m<module>\u001b[0;34m\u001b[0m\n\u001b[0;32m----> 1\u001b[0;31m \u001b[0mTD01\u001b[0m\u001b[0;34m[\u001b[0m\u001b[0;34m'rl'\u001b[0m\u001b[0;34m]\u001b[0m \u001b[0;34m=\u001b[0m \u001b[0mTD01\u001b[0m\u001b[0;34m[\u001b[0m\u001b[0;34m'rl'\u001b[0m\u001b[0;34m]\u001b[0m\u001b[0;34m.\u001b[0m\u001b[0mstr\u001b[0m\u001b[0;34m.\u001b[0m\u001b[0mreplace\u001b[0m\u001b[0;34m(\u001b[0m\u001b[0;34m\"]\"\u001b[0m\u001b[0;34m,\u001b[0m\u001b[0;34m\"\"\u001b[0m\u001b[0;34m)\u001b[0m\u001b[0;34m\u001b[0m\u001b[0;34m\u001b[0m\u001b[0m\n\u001b[0m\u001b[1;32m      2\u001b[0m \u001b[0mTD01\u001b[0m\u001b[0;34m[\u001b[0m\u001b[0;34m'rl'\u001b[0m\u001b[0;34m]\u001b[0m \u001b[0;34m=\u001b[0m \u001b[0mTD01\u001b[0m\u001b[0;34m[\u001b[0m\u001b[0;34m'rl'\u001b[0m\u001b[0;34m]\u001b[0m\u001b[0;34m.\u001b[0m\u001b[0mstr\u001b[0m\u001b[0;34m.\u001b[0m\u001b[0mreplace\u001b[0m\u001b[0;34m(\u001b[0m\u001b[0;34m\" \"\u001b[0m\u001b[0;34m,\u001b[0m\u001b[0;34m\"\"\u001b[0m\u001b[0;34m)\u001b[0m\u001b[0;34m\u001b[0m\u001b[0;34m\u001b[0m\u001b[0m\n\u001b[1;32m      3\u001b[0m \u001b[0mTD01\u001b[0m\u001b[0;34m[\u001b[0m\u001b[0;34m'rl'\u001b[0m\u001b[0;34m]\u001b[0m \u001b[0;34m=\u001b[0m \u001b[0mpd\u001b[0m\u001b[0;34m.\u001b[0m\u001b[0mto_numeric\u001b[0m\u001b[0;34m(\u001b[0m\u001b[0mTD01\u001b[0m\u001b[0;34m[\u001b[0m\u001b[0;34m'rl'\u001b[0m\u001b[0;34m]\u001b[0m\u001b[0;34m)\u001b[0m\u001b[0;34m\u001b[0m\u001b[0;34m\u001b[0m\u001b[0m\n\u001b[1;32m      4\u001b[0m \u001b[0mTD01\u001b[0m\u001b[0;34m[\u001b[0m\u001b[0;34m'n1'\u001b[0m\u001b[0;34m]\u001b[0m \u001b[0;34m=\u001b[0m \u001b[0mTD01\u001b[0m\u001b[0;34m[\u001b[0m\u001b[0;34m'n1'\u001b[0m\u001b[0;34m]\u001b[0m\u001b[0;34m.\u001b[0m\u001b[0mstr\u001b[0m\u001b[0;34m.\u001b[0m\u001b[0mreplace\u001b[0m\u001b[0;34m(\u001b[0m\u001b[0;34m\"[\"\u001b[0m\u001b[0;34m,\u001b[0m\u001b[0;34m\"\"\u001b[0m\u001b[0;34m)\u001b[0m\u001b[0;34m\u001b[0m\u001b[0;34m\u001b[0m\u001b[0m\n\u001b[1;32m      5\u001b[0m \u001b[0mTD01\u001b[0m\u001b[0;34m[\u001b[0m\u001b[0;34m'n1'\u001b[0m\u001b[0;34m]\u001b[0m \u001b[0;34m=\u001b[0m \u001b[0mTD01\u001b[0m\u001b[0;34m[\u001b[0m\u001b[0;34m'n1'\u001b[0m\u001b[0;34m]\u001b[0m\u001b[0;34m.\u001b[0m\u001b[0mstr\u001b[0m\u001b[0;34m.\u001b[0m\u001b[0mreplace\u001b[0m\u001b[0;34m(\u001b[0m\u001b[0;34m\" \"\u001b[0m\u001b[0;34m,\u001b[0m\u001b[0;34m\"\"\u001b[0m\u001b[0;34m)\u001b[0m\u001b[0;34m\u001b[0m\u001b[0;34m\u001b[0m\u001b[0m\n",
      "\u001b[0;31mNameError\u001b[0m: name 'TD01' is not defined"
     ]
    }
   ],
   "source": [
    "TD01['rl'] = TD01['rl'].str.replace(\"]\",\"\")\n",
    "TD01['rl'] = TD01['rl'].str.replace(\" \",\"\")\n",
    "TD01['rl'] = pd.to_numeric(TD01['rl'])\n",
    "TD01['n1'] = TD01['n1'].str.replace(\"[\",\"\")\n",
    "TD01['n1'] = TD01['n1'].str.replace(\" \",\"\")\n",
    "TD01['n1'] = pd.to_numeric(TD01['n1'])\n",
    "\n",
    "TD02['rl'] = TD02['rl'].str.replace(\"]\",\"\")\n",
    "TD02['rl'] = TD02['rl'].str.replace(\" \",\"\")\n",
    "TD02['rl'] = pd.to_numeric(TD02['rl'])\n",
    "TD02['n1'] = TD02['n1'].str.replace(\"[\",\"\")\n",
    "TD02['n1'] = TD02['n1'].str.replace(\" \",\"\")\n",
    "TD02['n1'] = pd.to_numeric(TD02['n1'])\n",
    "\n",
    "TD03['rl'] = TD03['rl'].str.replace(\"]\",\"\")\n",
    "TD03['rl'] = TD03['rl'].str.replace(\" \",\"\")\n",
    "TD03['rl'] = pd.to_numeric(TD03['rl'])\n",
    "TD03['n1'] = TD03['n1'].str.replace(\"[\",\"\")\n",
    "TD03['n1'] = TD03['n1'].str.replace(\" \",\"\")\n",
    "TD03['n1'] = pd.to_numeric(TD03['n1'])\n",
    "\n",
    "TD04['rl'] = TD04['rl'].str.replace(\"]\",\"\")\n",
    "TD04['rl'] = TD04['rl'].str.replace(\" \",\"\")\n",
    "TD04['rl'] = pd.to_numeric(TD04['rl'])\n",
    "TD04['n1'] = TD04['n1'].str.replace(\"[\",\"\")\n",
    "TD04['n1'] = TD04['n1'].str.replace(\" \",\"\")\n",
    "TD04['n1'] = pd.to_numeric(TD04['n1'])\n",
    "\n",
    "TD05['rl'] = TD05['rl'].str.replace(\"]\",\"\")\n",
    "TD05['rl'] = TD05['rl'].str.replace(\" \",\"\")\n",
    "TD05['rl'] = pd.to_numeric(TD05['rl'])\n",
    "TD05['n1'] = TD05['n1'].str.replace(\"[\",\"\")\n",
    "TD05['n1'] = TD05['n1'].str.replace(\" \",\"\")\n",
    "TD05['n1'] = pd.to_numeric(TD05['n1'])\n",
    "\n",
    "TD06['rl'] = TD06['rl'].str.replace(\"]\",\"\")\n",
    "TD06['rl'] = TD06['rl'].str.replace(\" \",\"\")\n",
    "TD06['rl'] = pd.to_numeric(TD06['rl'])\n",
    "TD06['n1'] = TD06['n1'].str.replace(\"[\",\"\")\n",
    "TD06['n1'] = TD06['n1'].str.replace(\" \",\"\")\n",
    "TD06['n1'] = pd.to_numeric(TD06['n1'])\n",
    "\n",
    "TD07['rl'] = TD07['rl'].str.replace(\"]\",\"\")\n",
    "TD07['rl'] = TD07['rl'].str.replace(\" \",\"\")\n",
    "TD07['rl'] = pd.to_numeric(TD07['rl'])\n",
    "TD07['n1'] = TD07['n1'].str.replace(\"[\",\"\")\n",
    "TD07['n1'] = TD07['n1'].str.replace(\" \",\"\")\n",
    "TD07['n1'] = pd.to_numeric(TD07['n1'])\n",
    "\n",
    "TD08['rl'] = TD08['rl'].str.replace(\"]\",\"\")\n",
    "TD08['rl'] = TD08['rl'].str.replace(\" \",\"\")\n",
    "TD08['rl'] = pd.to_numeric(TD08['rl'])\n",
    "TD08['n1'] = TD08['n1'].str.replace(\"[\",\"\")\n",
    "TD08['n1'] = TD08['n1'].str.replace(\" \",\"\")\n",
    "TD08['n1'] = pd.to_numeric(TD08['n1'])\n",
    "\n",
    "TD09['rl'] = TD09['rl'].str.replace(\"]\",\"\")\n",
    "TD09['rl'] = TD09['rl'].str.replace(\" \",\"\")\n",
    "TD09['rl'] = pd.to_numeric(TD09['rl'])\n",
    "TD09['n1'] = TD09['n1'].str.replace(\"[\",\"\")\n",
    "TD09['n1'] = TD09['n1'].str.replace(\" \",\"\")\n",
    "TD09['n1'] = pd.to_numeric(TD09['n1'])\n",
    "\n",
    "\n",
    "# TD3052['rl'] = TD3052['rl'].str.replace(\"]\",\"\")\n",
    "# TD3052['rl'] = TD3052['rl'].str.replace(\" \",\"\")\n",
    "# TD3052['rl'] = pd.to_numeric(TD3052['rl'])\n",
    "# TD3052['n1'] = TD3052['n1'].str.replace(\"[\",\"\")\n",
    "# TD3052['n1'] = TD3052['n1'].str.replace(\" \",\"\")\n",
    "# TD3052['n1'] = pd.to_numeric(TD3052['n1'])\n",
    "\n",
    "TD1['rl'] = TD1['rl'].str.replace(\"]\",\"\")\n",
    "TD1['rl'] = TD1['rl'].str.replace(\" \",\"\")\n",
    "TD1['rl'] = pd.to_numeric(TD1['rl'])\n",
    "TD1['n1'] = TD1['n1'].str.replace(\"[\",\"\")\n",
    "TD1['n1'] = TD1['n1'].str.replace(\" \",\"\")\n",
    "TD1['n1'] = pd.to_numeric(TD1['n1'])\n",
    "\n",
    "TD15['rl'] = TD15['rl'].str.replace(\"]\",\"\")\n",
    "TD15['rl'] = TD15['rl'].str.replace(\" \",\"\")\n",
    "TD15['rl'] = pd.to_numeric(TD15['rl'])\n",
    "TD15['n1'] = TD15['n1'].str.replace(\"[\",\"\")\n",
    "TD15['n1'] = TD15['n1'].str.replace(\" \",\"\")\n",
    "TD15['n1'] = pd.to_numeric(TD15['n1'])\n",
    "\n",
    "TD2['rl'] = TD2['rl'].str.replace(\"]\",\"\")\n",
    "TD2['rl'] = TD2['rl'].str.replace(\" \",\"\")\n",
    "TD2['rl'] = pd.to_numeric(TD2['rl'])\n",
    "TD2['n1'] = TD2['n1'].str.replace(\"[\",\"\")\n",
    "TD2['n1'] = TD2['n1'].str.replace(\" \",\"\")\n",
    "TD2['n1'] = pd.to_numeric(TD2['n1'])\n",
    "\n",
    "TD25['rl'] = TD25['rl'].str.replace(\"]\",\"\")\n",
    "TD25['rl'] = TD25['rl'].str.replace(\" \",\"\")\n",
    "TD25['rl'] = pd.to_numeric(TD25['rl'])\n",
    "TD25['n1'] = TD25['n1'].str.replace(\"[\",\"\")\n",
    "TD25['n1'] = TD25['n1'].str.replace(\" \",\"\")\n",
    "TD25['n1'] = pd.to_numeric(TD25['n1'])\n",
    "\n",
    "LC01['rl'] = LC01['rl'].str.replace(\"]\",\"\")\n",
    "LC01['rl'] = LC01['rl'].str.replace(\" \",\"\")\n",
    "LC01['rl'] = pd.to_numeric(LC01['rl'])\n",
    "LC01['n1'] = LC01['n1'].str.replace(\"[\",\"\")\n",
    "LC01['n1'] = LC01['n1'].str.replace(\" \",\"\")\n",
    "LC01['n1'] = pd.to_numeric(LC01['n1'])\n",
    "\n",
    "LC02['rl'] = LC02['rl'].str.replace(\"]\",\"\")\n",
    "LC02['rl'] = LC02['rl'].str.replace(\" \",\"\")\n",
    "LC02['rl'] = pd.to_numeric(LC02['rl'])\n",
    "LC02['n1'] = LC02['n1'].str.replace(\"[\",\"\")\n",
    "LC02['n1'] = LC02['n1'].str.replace(\" \",\"\")\n",
    "LC02['n1'] = pd.to_numeric(LC02['n1'])\n",
    "\n",
    "LC03['rl'] = LC03['rl'].str.replace(\"]\",\"\")\n",
    "LC03['rl'] = LC03['rl'].str.replace(\" \",\"\")\n",
    "LC03['rl'] = pd.to_numeric(LC03['rl'])\n",
    "LC03['n1'] = LC03['n1'].str.replace(\"[\",\"\")\n",
    "LC03['n1'] = LC03['n1'].str.replace(\" \",\"\")\n",
    "LC03['n1'] = pd.to_numeric(LC03['n1'])\n",
    "\n",
    "LC04['rl'] = LC04['rl'].str.replace(\"]\",\"\")\n",
    "LC04['rl'] = LC04['rl'].str.replace(\" \",\"\")\n",
    "LC04['rl'] = pd.to_numeric(LC04['rl'])\n",
    "LC04['n1'] = LC04['n1'].str.replace(\"[\",\"\")\n",
    "LC04['n1'] = LC04['n1'].str.replace(\" \",\"\")\n",
    "LC04['n1'] = pd.to_numeric(LC04['n1'])\n",
    "\n",
    "LC05['rl'] = LC05['rl'].str.replace(\"]\",\"\")\n",
    "LC05['rl'] = LC05['rl'].str.replace(\" \",\"\")\n",
    "LC05['rl'] = pd.to_numeric(LC05['rl'])\n",
    "LC05['n1'] = LC05['n1'].str.replace(\"[\",\"\")\n",
    "LC05['n1'] = LC05['n1'].str.replace(\" \",\"\")\n",
    "LC05['n1'] = pd.to_numeric(LC05['n1'])\n",
    "\n",
    "LC06['rl'] = LC06['rl'].str.replace(\"]\",\"\")\n",
    "LC06['rl'] = LC06['rl'].str.replace(\" \",\"\")\n",
    "LC06['rl'] = pd.to_numeric(LC06['rl'])\n",
    "LC06['n1'] = LC06['n1'].str.replace(\"[\",\"\")\n",
    "LC06['n1'] = LC06['n1'].str.replace(\" \",\"\")\n",
    "LC06['n1'] = pd.to_numeric(LC06['n1'])\n",
    "\n",
    "LC07['rl'] = LC07['rl'].str.replace(\"]\",\"\")\n",
    "LC07['rl'] = LC07['rl'].str.replace(\" \",\"\")\n",
    "LC07['rl'] = pd.to_numeric(LC07['rl'])\n",
    "LC07['n1'] = LC07['n1'].str.replace(\"[\",\"\")\n",
    "LC07['n1'] = LC07['n1'].str.replace(\" \",\"\")\n",
    "LC07['n1'] = pd.to_numeric(LC07['n1'])\n",
    "\n",
    "LC08['rl'] = LC08['rl'].str.replace(\"]\",\"\")\n",
    "LC08['rl'] = LC08['rl'].str.replace(\" \",\"\")\n",
    "LC08['rl'] = pd.to_numeric(LC08['rl'])\n",
    "LC08['n1'] = LC08['n1'].str.replace(\"[\",\"\")\n",
    "LC08['n1'] = LC08['n1'].str.replace(\" \",\"\")\n",
    "LC08['n1'] = pd.to_numeric(LC08['n1'])\n",
    "\n",
    "LC09['rl'] = LC09['rl'].str.replace(\"]\",\"\")\n",
    "LC09['rl'] = LC09['rl'].str.replace(\" \",\"\")\n",
    "LC09['rl'] = pd.to_numeric(LC09['rl'])\n",
    "LC09['n1'] = LC09['n1'].str.replace(\"[\",\"\")\n",
    "LC09['n1'] = LC09['n1'].str.replace(\" \",\"\")\n",
    "LC09['n1'] = pd.to_numeric(LC09['n1'])\n",
    "\n",
    "LC1['rl'] = LC1['rl'].str.replace(\"]\",\"\")\n",
    "LC1['rl'] = LC1['rl'].str.replace(\" \",\"\")\n",
    "LC1['rl'] = pd.to_numeric(LC1['rl'])\n",
    "LC1['n1'] = LC1['n1'].str.replace(\"[\",\"\")\n",
    "LC1['n1'] = LC1['n1'].str.replace(\" \",\"\")\n",
    "LC1['n1'] = pd.to_numeric(LC1['n1'])\n",
    "\n",
    "LC15['rl'] = LC15['rl'].str.replace(\"]\",\"\")\n",
    "LC15['rl'] = LC15['rl'].str.replace(\" \",\"\")\n",
    "LC15['rl'] = pd.to_numeric(LC15['rl'])\n",
    "LC15['n1'] = LC15['n1'].str.replace(\"[\",\"\")\n",
    "LC15['n1'] = LC15['n1'].str.replace(\" \",\"\")\n",
    "LC15['n1'] = pd.to_numeric(LC15['n1'])\n",
    "\n",
    "LC2['rl'] = LC2['rl'].str.replace(\"]\",\"\")\n",
    "LC2['rl'] = LC2['rl'].str.replace(\" \",\"\")\n",
    "LC2['rl'] = pd.to_numeric(LC2['rl'])\n",
    "LC2['n1'] = LC2['n1'].str.replace(\"[\",\"\")\n",
    "LC2['n1'] = LC2['n1'].str.replace(\" \",\"\")\n",
    "LC2['n1'] = pd.to_numeric(LC2['n1'])\n",
    "\n",
    "LC25['rl'] = LC25['rl'].str.replace(\"]\",\"\")\n",
    "LC25['rl'] = LC25['rl'].str.replace(\" \",\"\")\n",
    "LC25['rl'] = pd.to_numeric(LC25['rl'])\n",
    "LC25['n1'] = LC25['n1'].str.replace(\"[\",\"\")\n",
    "LC25['n1'] = LC25['n1'].str.replace(\" \",\"\")\n",
    "LC25['n1'] = pd.to_numeric(LC25['n1'])"
   ]
  },
  {
   "cell_type": "code",
   "execution_count": 17,
   "metadata": {},
   "outputs": [
    {
     "ename": "NameError",
     "evalue": "name 'N01' is not defined",
     "output_type": "error",
     "traceback": [
      "\u001b[0;31m---------------------------------------------------------------------------\u001b[0m",
      "\u001b[0;31mNameError\u001b[0m                                 Traceback (most recent call last)",
      "\u001b[0;32m<ipython-input-17-9a0eb2363744>\u001b[0m in \u001b[0;36m<module>\u001b[0;34m\u001b[0m\n\u001b[0;32m----> 1\u001b[0;31m \u001b[0mN01\u001b[0m\u001b[0;34m[\u001b[0m\u001b[0;34m'n18'\u001b[0m\u001b[0;34m]\u001b[0m \u001b[0;34m=\u001b[0m \u001b[0mN01\u001b[0m\u001b[0;34m[\u001b[0m\u001b[0;34m'n18'\u001b[0m\u001b[0;34m]\u001b[0m\u001b[0;34m.\u001b[0m\u001b[0mstr\u001b[0m\u001b[0;34m.\u001b[0m\u001b[0mreplace\u001b[0m\u001b[0;34m(\u001b[0m\u001b[0;34m\"]\"\u001b[0m\u001b[0;34m,\u001b[0m\u001b[0;34m\"\"\u001b[0m\u001b[0;34m)\u001b[0m\u001b[0;34m\u001b[0m\u001b[0;34m\u001b[0m\u001b[0m\n\u001b[0m\u001b[1;32m      2\u001b[0m \u001b[0mN01\u001b[0m\u001b[0;34m[\u001b[0m\u001b[0;34m'n18'\u001b[0m\u001b[0;34m]\u001b[0m \u001b[0;34m=\u001b[0m \u001b[0mN01\u001b[0m\u001b[0;34m[\u001b[0m\u001b[0;34m'n18'\u001b[0m\u001b[0;34m]\u001b[0m\u001b[0;34m.\u001b[0m\u001b[0mstr\u001b[0m\u001b[0;34m.\u001b[0m\u001b[0mreplace\u001b[0m\u001b[0;34m(\u001b[0m\u001b[0;34m\" \"\u001b[0m\u001b[0;34m,\u001b[0m\u001b[0;34m\"\"\u001b[0m\u001b[0;34m)\u001b[0m\u001b[0;34m\u001b[0m\u001b[0;34m\u001b[0m\u001b[0m\n\u001b[1;32m      3\u001b[0m \u001b[0mN01\u001b[0m\u001b[0;34m[\u001b[0m\u001b[0;34m'n18'\u001b[0m\u001b[0;34m]\u001b[0m \u001b[0;34m=\u001b[0m \u001b[0mpd\u001b[0m\u001b[0;34m.\u001b[0m\u001b[0mto_numeric\u001b[0m\u001b[0;34m(\u001b[0m\u001b[0mN01\u001b[0m\u001b[0;34m[\u001b[0m\u001b[0;34m'n18'\u001b[0m\u001b[0;34m]\u001b[0m\u001b[0;34m)\u001b[0m\u001b[0;34m\u001b[0m\u001b[0;34m\u001b[0m\u001b[0m\n\u001b[1;32m      4\u001b[0m \u001b[0mN01\u001b[0m\u001b[0;34m[\u001b[0m\u001b[0;34m'n1'\u001b[0m\u001b[0;34m]\u001b[0m \u001b[0;34m=\u001b[0m \u001b[0mN01\u001b[0m\u001b[0;34m[\u001b[0m\u001b[0;34m'n1'\u001b[0m\u001b[0;34m]\u001b[0m\u001b[0;34m.\u001b[0m\u001b[0mstr\u001b[0m\u001b[0;34m.\u001b[0m\u001b[0mreplace\u001b[0m\u001b[0;34m(\u001b[0m\u001b[0;34m\"[\"\u001b[0m\u001b[0;34m,\u001b[0m\u001b[0;34m\"\"\u001b[0m\u001b[0;34m)\u001b[0m\u001b[0;34m\u001b[0m\u001b[0;34m\u001b[0m\u001b[0m\n\u001b[1;32m      5\u001b[0m \u001b[0mN01\u001b[0m\u001b[0;34m[\u001b[0m\u001b[0;34m'n1'\u001b[0m\u001b[0;34m]\u001b[0m \u001b[0;34m=\u001b[0m \u001b[0mN01\u001b[0m\u001b[0;34m[\u001b[0m\u001b[0;34m'n1'\u001b[0m\u001b[0;34m]\u001b[0m\u001b[0;34m.\u001b[0m\u001b[0mstr\u001b[0m\u001b[0;34m.\u001b[0m\u001b[0mreplace\u001b[0m\u001b[0;34m(\u001b[0m\u001b[0;34m\" \"\u001b[0m\u001b[0;34m,\u001b[0m\u001b[0;34m\"\"\u001b[0m\u001b[0;34m)\u001b[0m\u001b[0;34m\u001b[0m\u001b[0;34m\u001b[0m\u001b[0m\n",
      "\u001b[0;31mNameError\u001b[0m: name 'N01' is not defined"
     ]
    }
   ],
   "source": [
    "\n",
    "N01['n18'] = N01['n18'].str.replace(\"]\",\"\")\n",
    "N01['n18'] = N01['n18'].str.replace(\" \",\"\")\n",
    "N01['n18'] = pd.to_numeric(N01['n18'])\n",
    "N01['n1'] = N01['n1'].str.replace(\"[\",\"\")\n",
    "N01['n1'] = N01['n1'].str.replace(\" \",\"\")\n",
    "N01['n1'] = pd.to_numeric(N01['n1'])\n",
    "\n",
    "N02['n18'] = N02['n18'].str.replace(\"]\",\"\")\n",
    "N02['n18'] = N02['n18'].str.replace(\" \",\"\")\n",
    "N02['n18'] = pd.to_numeric(N02['n18'])\n",
    "N02['n1'] = N02['n1'].str.replace(\"[\",\"\")\n",
    "N02['n1'] = N02['n1'].str.replace(\" \",\"\")\n",
    "N02['n1'] = pd.to_numeric(N02['n1'])\n",
    "\n",
    "N03['n18'] = N03['n18'].str.replace(\"]\",\"\")\n",
    "N03['n18'] = N03['n18'].str.replace(\" \",\"\")\n",
    "N03['n18'] = pd.to_numeric(N03['n18'])\n",
    "N03['n1'] = N03['n1'].str.replace(\"[\",\"\")\n",
    "N03['n1'] = N03['n1'].str.replace(\" \",\"\")\n",
    "N03['n1'] = pd.to_numeric(N03['n1'])\n",
    "\n",
    "N04['n18'] = N04['n18'].str.replace(\"]\",\"\")\n",
    "N04['n18'] = N04['n18'].str.replace(\" \",\"\")\n",
    "N04['n18'] = pd.to_numeric(N04['n18'])\n",
    "N04['n1'] = N04['n1'].str.replace(\"[\",\"\")\n",
    "N04['n1'] = N04['n1'].str.replace(\" \",\"\")\n",
    "N04['n1'] = pd.to_numeric(N04['n1'])\n",
    "\n",
    "N05['n18'] = N05['n18'].str.replace(\"]\",\"\")\n",
    "N05['n18'] = N05['n18'].str.replace(\" \",\"\")\n",
    "N05['n18'] = pd.to_numeric(N05['n18'])\n",
    "N05['n1'] = N05['n1'].str.replace(\"[\",\"\")\n",
    "N05['n1'] = N05['n1'].str.replace(\" \",\"\")\n",
    "N05['n1'] = pd.to_numeric(N05['n1'])\n",
    "\n",
    "N06['n18'] = N06['n18'].str.replace(\"]\",\"\")\n",
    "N06['n18'] = N06['n18'].str.replace(\" \",\"\")\n",
    "N06['n18'] = pd.to_numeric(N06['n18'])\n",
    "N06['n1'] = N06['n1'].str.replace(\"[\",\"\")\n",
    "N06['n1'] = N06['n1'].str.replace(\" \",\"\")\n",
    "N06['n1'] = pd.to_numeric(N06['n1'])\n",
    "\n",
    "N07['n18'] = N07['n18'].str.replace(\"]\",\"\")\n",
    "N07['n18'] = N07['n18'].str.replace(\" \",\"\")\n",
    "N07['n18'] = pd.to_numeric(N07['n18'])\n",
    "N07['n1'] = N07['n1'].str.replace(\"[\",\"\")\n",
    "N07['n1'] = N07['n1'].str.replace(\" \",\"\")\n",
    "N07['n1'] = pd.to_numeric(N07['n1'])\n",
    "\n",
    "N08['n18'] = N08['n18'].str.replace(\"]\",\"\")\n",
    "N08['n18'] = N08['n18'].str.replace(\" \",\"\")\n",
    "N08['n18'] = pd.to_numeric(N08['n18'])\n",
    "N08['n1'] = N08['n1'].str.replace(\"[\",\"\")\n",
    "N08['n1'] = N08['n1'].str.replace(\" \",\"\")\n",
    "N08['n1'] = pd.to_numeric(N08['n1'])\n",
    "\n",
    "N09['n18'] = N09['n18'].str.replace(\"]\",\"\")\n",
    "N09['n18'] = N09['n18'].str.replace(\" \",\"\")\n",
    "N09['n18'] = pd.to_numeric(N09['n18'])\n",
    "N09['n1'] = N09['n1'].str.replace(\"[\",\"\")\n",
    "N09['n1'] = N09['n1'].str.replace(\" \",\"\")\n",
    "N09['n1'] = pd.to_numeric(N09['n1'])\n",
    "\n",
    "N1['n18'] = N1['n18'].str.replace(\"]\",\"\")\n",
    "N1['n18'] = N1['n18'].str.replace(\" \",\"\")\n",
    "N1['n18'] = pd.to_numeric(N1['n18'])\n",
    "N1['n1'] = N1['n1'].str.replace(\"[\",\"\")\n",
    "N1['n1'] = N1['n1'].str.replace(\" \",\"\")\n",
    "N1['n1'] = pd.to_numeric(N1['n1'])\n",
    "\n",
    "N15['n18'] = N15['n18'].str.replace(\"]\",\"\")\n",
    "N15['n18'] = N15['n18'].str.replace(\" \",\"\")\n",
    "N15['n18'] = pd.to_numeric(N15['n18'])\n",
    "N15['n1'] = N15['n1'].str.replace(\"[\",\"\")\n",
    "N15['n1'] = N15['n1'].str.replace(\" \",\"\")\n",
    "N15['n1'] = pd.to_numeric(N15['n1'])\n",
    "\n",
    "N2['n18'] = N2['n18'].str.replace(\"]\",\"\")\n",
    "N2['n18'] = N2['n18'].str.replace(\" \",\"\")\n",
    "N2['n18'] = pd.to_numeric(N2['n18'])\n",
    "N2['n1'] = N2['n1'].str.replace(\"[\",\"\")\n",
    "N2['n1'] = N2['n1'].str.replace(\" \",\"\")\n",
    "N2['n1'] = pd.to_numeric(N2['n1'])\n",
    "\n",
    "N25['n18'] = N25['n18'].str.replace(\"]\",\"\")\n",
    "N25['n18'] = N25['n18'].str.replace(\" \",\"\")\n",
    "N25['n18'] = pd.to_numeric(N25['n18'])\n",
    "N25['n1'] = N25['n1'].str.replace(\"[\",\"\")\n",
    "N25['n1'] = N25['n1'].str.replace(\" \",\"\")\n",
    "N25['n1'] = pd.to_numeric(N25['n1'])"
   ]
  },
  {
   "cell_type": "code",
   "execution_count": 18,
   "metadata": {},
   "outputs": [
    {
     "ename": "NameError",
     "evalue": "name 'LC05' is not defined",
     "output_type": "error",
     "traceback": [
      "\u001b[0;31m---------------------------------------------------------------------------\u001b[0m",
      "\u001b[0;31mNameError\u001b[0m                                 Traceback (most recent call last)",
      "\u001b[0;32m<ipython-input-18-4e5b1fe3dc5b>\u001b[0m in \u001b[0;36m<module>\u001b[0;34m\u001b[0m\n\u001b[0;32m----> 1\u001b[0;31m \u001b[0mLC05\u001b[0m\u001b[0;34m=\u001b[0m\u001b[0mLC05\u001b[0m\u001b[0;34m[\u001b[0m\u001b[0;34m:\u001b[0m\u001b[0;36m3000\u001b[0m\u001b[0;34m]\u001b[0m\u001b[0;34m\u001b[0m\u001b[0;34m\u001b[0m\u001b[0m\n\u001b[0m",
      "\u001b[0;31mNameError\u001b[0m: name 'LC05' is not defined"
     ]
    }
   ],
   "source": [
    "LC05=LC05[:3000]"
   ]
  },
  {
   "cell_type": "markdown",
   "metadata": {},
   "source": [
    "# Distribution of velocity"
   ]
  },
  {
   "cell_type": "code",
   "execution_count": 12,
   "metadata": {},
   "outputs": [
    {
     "ename": "NameError",
     "evalue": "name 'TD01' is not defined",
     "output_type": "error",
     "traceback": [
      "\u001b[0;31m---------------------------------------------------------------------------\u001b[0m",
      "\u001b[0;31mNameError\u001b[0m                                 Traceback (most recent call last)",
      "\u001b[0;32m<ipython-input-12-f88fb495fbaf>\u001b[0m in \u001b[0;36m<module>\u001b[0;34m\u001b[0m\n\u001b[0;32m----> 1\u001b[0;31m \u001b[0mTD01list\u001b[0m \u001b[0;34m=\u001b[0m \u001b[0;34m[\u001b[0m\u001b[0mi\u001b[0m \u001b[0;32mfor\u001b[0m \u001b[0mi\u001b[0m \u001b[0;32min\u001b[0m \u001b[0mTD01\u001b[0m\u001b[0;34m[\u001b[0m\u001b[0;34m'rl'\u001b[0m\u001b[0;34m]\u001b[0m\u001b[0;34m]\u001b[0m\u001b[0;34m\u001b[0m\u001b[0;34m\u001b[0m\u001b[0m\n\u001b[0m\u001b[1;32m      2\u001b[0m \u001b[0mTD02list\u001b[0m \u001b[0;34m=\u001b[0m \u001b[0;34m[\u001b[0m\u001b[0mi\u001b[0m \u001b[0;32mfor\u001b[0m \u001b[0mi\u001b[0m \u001b[0;32min\u001b[0m \u001b[0mTD02\u001b[0m\u001b[0;34m[\u001b[0m\u001b[0;34m'rl'\u001b[0m\u001b[0;34m]\u001b[0m\u001b[0;34m]\u001b[0m\u001b[0;34m\u001b[0m\u001b[0;34m\u001b[0m\u001b[0m\n\u001b[1;32m      3\u001b[0m \u001b[0mTD03list\u001b[0m \u001b[0;34m=\u001b[0m \u001b[0;34m[\u001b[0m\u001b[0mi\u001b[0m \u001b[0;32mfor\u001b[0m \u001b[0mi\u001b[0m \u001b[0;32min\u001b[0m \u001b[0mTD03\u001b[0m\u001b[0;34m[\u001b[0m\u001b[0;34m'rl'\u001b[0m\u001b[0;34m]\u001b[0m\u001b[0;34m]\u001b[0m\u001b[0;34m\u001b[0m\u001b[0;34m\u001b[0m\u001b[0m\n\u001b[1;32m      4\u001b[0m \u001b[0mTD04list\u001b[0m \u001b[0;34m=\u001b[0m \u001b[0;34m[\u001b[0m\u001b[0mi\u001b[0m \u001b[0;32mfor\u001b[0m \u001b[0mi\u001b[0m \u001b[0;32min\u001b[0m \u001b[0mTD04\u001b[0m\u001b[0;34m[\u001b[0m\u001b[0;34m'rl'\u001b[0m\u001b[0;34m]\u001b[0m\u001b[0;34m]\u001b[0m\u001b[0;34m\u001b[0m\u001b[0;34m\u001b[0m\u001b[0m\n\u001b[1;32m      5\u001b[0m \u001b[0mTD05list\u001b[0m \u001b[0;34m=\u001b[0m \u001b[0;34m[\u001b[0m\u001b[0mi\u001b[0m \u001b[0;32mfor\u001b[0m \u001b[0mi\u001b[0m \u001b[0;32min\u001b[0m \u001b[0mTD05\u001b[0m\u001b[0;34m[\u001b[0m\u001b[0;34m'rl'\u001b[0m\u001b[0;34m]\u001b[0m\u001b[0;34m]\u001b[0m\u001b[0;34m\u001b[0m\u001b[0;34m\u001b[0m\u001b[0m\n",
      "\u001b[0;31mNameError\u001b[0m: name 'TD01' is not defined"
     ]
    }
   ],
   "source": [
    "\n",
    "TD01list = [i for i in TD01['rl']]\n",
    "TD02list = [i for i in TD02['rl']]\n",
    "TD03list = [i for i in TD03['rl']]\n",
    "TD04list = [i for i in TD04['rl']]\n",
    "TD05list = [i for i in TD05['rl']]\n",
    "TD06list = [i for i in TD06['rl']]\n",
    "TD07list = [i for i in TD07['rl']]\n",
    "TD08list = [i for i in TD08['rl']]\n",
    "TD09list = [i for i in TD09['rl']]\n",
    "# TD3052_list = [i for i in TD3052['rl']]\n",
    "TD1_list = [i for i in TD1['rl']]\n",
    "TD15_list = [i for i in TD15['rl']]\n",
    "TD2_list = [i for i in TD2['rl']]\n",
    "TD25_list = [i for i in TD25['rl']]\n",
    "\n",
    "\n",
    "# LC0list = [i for i in LC0['rl']]\n",
    "LC01list = [i for i in LC01['rl']]\n",
    "LC02list = [i for i in LC02['rl']]\n",
    "LC03list = [i for i in LC03['rl']]\n",
    "LC04list = [i for i in LC04['rl']]\n",
    "LC05list = [i for i in LC05['rl']]\n",
    "LC06list = [i for i in LC06['rl']]\n",
    "LC07list = [i for i in LC07['rl']]\n",
    "LC08list = [i for i in LC08['rl']]\n",
    "LC09list = [i for i in LC09['rl']]\n",
    "LC1list = [i for i in LC1['rl']]\n",
    "LC15list = [i for i in LC15['rl']]\n",
    "LC2list = [i for i in LC2['rl']]\n",
    "LC25list = [i for i in LC25['rl']]\n",
    "\n",
    "# print(\"PPO Speed Mean: {}\".format(np.mean(PPO_list)))\n",
    "# print(\"PPO Speed var: {}\".format(np.var(PPO_list)))\n",
    "\n",
    "# print(\"TD3051 Speed Mean: {}\".format(np.mean(TD3051_list)))\n",
    "# print(\"TD3051 Speed var: {}\".format(np.var(TD3051_list)))\n",
    "# print(\"TD3052 Speed Mean: {}\".format(np.mean(TD3052_list)))\n",
    "# print(\"TD3052 Speed var: {}\".format(np.var(TD3052_list)))\n",
    "\n",
    "\n",
    "# print(\"LC0 Speed Mean: {}\".format(np.mean(LC0list)))\n",
    "# print(\"LC0 Speed var: {}\".format(np.var(LC0list)))\n",
    "print(\"LC01 Speed Mean: {}\".format(np.mean(LC01list)))\n",
    "print(\"LC01 Speed var: {}\".format(np.var(LC01list)))\n",
    "print(\"LC02 Speed Mean: {}\".format(np.mean(LC02list)))\n",
    "print(\"LC02 Speed var: {}\".format(np.var(LC02list)))\n",
    "print(\"LC03 Speed Mean: {}\".format(np.mean(LC03list)))\n",
    "print(\"LC03 Speed var: {}\".format(np.var(LC03list)))\n",
    "print(\"LC04 Speed Mean: {}\".format(np.mean(LC04list)))\n",
    "print(\"LC04 Speed var: {}\".format(np.var(LC04list)))\n",
    "print(\"LC05 Speed Mean: {}\".format(np.mean(LC05list)))\n",
    "print(\"LC05 Speed var: {}\".format(np.var(LC05list)))\n",
    "print(\"LC06 Speed Mean: {}\".format(np.mean(LC06list)))\n",
    "print(\"LC06 Speed var: {}\".format(np.var(LC06list)))\n",
    "print(\"LC07 Speed Mean: {}\".format(np.mean(LC07list)))\n",
    "print(\"LC07 Speed var: {}\".format(np.var(LC07list)))\n",
    "print(\"LC08 Speed Mean: {}\".format(np.mean(LC08list)))\n",
    "print(\"LC08 Speed var: {}\".format(np.var(LC08list)))\n",
    "print(\"LC09 Speed Mean: {}\".format(np.mean(LC09list)))\n",
    "print(\"LC09 Speed var: {}\".format(np.var(LC09list)))\n",
    "print(\"LC1 Speed Mean: {}\".format(np.mean(LC1list)))\n",
    "print(\"LC1 Speed var: {}\".format(np.var(LC1list)))\n",
    "print(\"LC15 Speed Mean: {}\".format(np.mean(LC15list)))\n",
    "print(\"LC15 Speed var: {}\".format(np.var(LC15list)))\n",
    "print(\"LC2 Speed Mean: {}\".format(np.mean(LC2list)))\n",
    "print(\"LC2 Speed var: {}\".format(np.var(LC2list)))\n",
    "print(\"LC25 Speed Mean: {}\".format(np.mean(LC25list)))\n",
    "print(\"LC25 Speed var: {}\".format(np.var(LC25list)))\n",
    "\n",
    "\n",
    "print(\"TD01 Speed Mean: {}\".format(np.mean(TD01list)))\n",
    "print(\"TD01 Speed var: {}\".format(np.var(TD01list)))\n",
    "print(\"TD02 Speed Mean: {}\".format(np.mean(TD02list)))\n",
    "print(\"TD02 Speed var: {}\".format(np.var(TD02list)))\n",
    "print(\"TD03 Speed Mean: {}\".format(np.mean(TD03list)))\n",
    "print(\"TD03 Speed var: {}\".format(np.var(TD03list)))\n",
    "print(\"TD04 Speed Mean: {}\".format(np.mean(TD04list)))\n",
    "print(\"TD04 Speed var: {}\".format(np.var(TD04list)))\n",
    "print(\"TD05 Speed Mean: {}\".format(np.mean(TD05list)))\n",
    "print(\"TD05 Speed var: {}\".format(np.var(TD05list)))\n",
    "print(\"TD06 Speed Mean: {}\".format(np.mean(TD06list)))\n",
    "print(\"TD06 Speed var: {}\".format(np.var(TD06list)))\n",
    "print(\"TD07 Speed Mean: {}\".format(np.mean(TD07list)))\n",
    "print(\"TD07 Speed var: {}\".format(np.var(TD07list)))\n",
    "print(\"TD08 Speed Mean: {}\".format(np.mean(TD08list)))\n",
    "print(\"TD08 Speed var: {}\".format(np.var(TD08list)))\n",
    "print(\"TD09 Speed Mean: {}\".format(np.mean(TD09list)))\n",
    "print(\"TD09 Speed var: {}\".format(np.var(TD09list)))\n",
    "print(\"TD1 Speed Mean: {}\".format(np.mean(TD1_list)))\n",
    "print(\"TD1 Speed var: {}\".format(np.var(TD1_list)))\n",
    "print(\"TD15 Speed Mean: {}\".format(np.mean(TD15_list)))\n",
    "print(\"TD15 Speed var: {}\".format(np.var(TD15_list)))\n",
    "print(\"TD2 Speed Mean: {}\".format(np.mean(TD2_list)))\n",
    "print(\"TD2 Speed var: {}\".format(np.var(TD2_list)))\n",
    "print(\"TD25 Speed Mean: {}\".format(np.mean(TD25_list)))\n",
    "print(\"TD25 Speed var: {}\".format(np.var(TD25_list)))\n",
    "# print(\"LC2 Speed Mean: {}\".format(np.mean(LC2list)))\n",
    "# print(\"LC2 Speed var: {}\".format(np.var(LC2list)))"
   ]
  },
  {
   "cell_type": "code",
   "execution_count": 13,
   "metadata": {},
   "outputs": [
    {
     "ename": "NameError",
     "evalue": "name 'TD05list' is not defined",
     "output_type": "error",
     "traceback": [
      "\u001b[0;31m---------------------------------------------------------------------------\u001b[0m",
      "\u001b[0;31mNameError\u001b[0m                                 Traceback (most recent call last)",
      "\u001b[0;32m<ipython-input-13-d0f34ae66867>\u001b[0m in \u001b[0;36m<module>\u001b[0;34m\u001b[0m\n\u001b[0;32m----> 1\u001b[0;31m \u001b[0mmu\u001b[0m \u001b[0;34m=\u001b[0m \u001b[0mnp\u001b[0m\u001b[0;34m.\u001b[0m\u001b[0mmean\u001b[0m\u001b[0;34m(\u001b[0m\u001b[0mTD05list\u001b[0m\u001b[0;34m)\u001b[0m\u001b[0;34m\u001b[0m\u001b[0;34m\u001b[0m\u001b[0m\n\u001b[0m\u001b[1;32m      2\u001b[0m \u001b[0msigma\u001b[0m \u001b[0;34m=\u001b[0m \u001b[0mnp\u001b[0m\u001b[0;34m.\u001b[0m\u001b[0mvar\u001b[0m\u001b[0;34m(\u001b[0m\u001b[0mTD05list\u001b[0m\u001b[0;34m)\u001b[0m\u001b[0;34m\u001b[0m\u001b[0;34m\u001b[0m\u001b[0m\n\u001b[1;32m      3\u001b[0m \u001b[0;34m\u001b[0m\u001b[0m\n\u001b[1;32m      4\u001b[0m \u001b[0mmu1\u001b[0m \u001b[0;34m=\u001b[0m \u001b[0mnp\u001b[0m\u001b[0;34m.\u001b[0m\u001b[0mmean\u001b[0m\u001b[0;34m(\u001b[0m\u001b[0mLC05list\u001b[0m\u001b[0;34m)\u001b[0m\u001b[0;34m\u001b[0m\u001b[0;34m\u001b[0m\u001b[0m\n\u001b[1;32m      5\u001b[0m \u001b[0msigma1\u001b[0m \u001b[0;34m=\u001b[0m \u001b[0mnp\u001b[0m\u001b[0;34m.\u001b[0m\u001b[0mvar\u001b[0m\u001b[0;34m(\u001b[0m\u001b[0mLC05list\u001b[0m\u001b[0;34m)\u001b[0m\u001b[0;34m\u001b[0m\u001b[0;34m\u001b[0m\u001b[0m\n",
      "\u001b[0;31mNameError\u001b[0m: name 'TD05list' is not defined"
     ]
    }
   ],
   "source": [
    "mu = np.mean(TD05list)\n",
    "sigma = np.var(TD05list)\n",
    "\n",
    "mu1 = np.mean(LC05list)\n",
    "sigma1 = np.var(LC05list)\n",
    "\n",
    "x = np.linspace(-8, 8, 500)\n",
    "y = (1 / np.sqrt(2 * np.pi * sigma**2)) * np.exp(-(x-mu)**2 / (2 * sigma**2))\n",
    "\n",
    "x1 = np.linspace(-8, 8, 500)\n",
    "y1 = (1 / np.sqrt(2 * np.pi * sigma1**2)) * np.exp(-(x-mu1)**2 / (2 * sigma1**2))\n",
    "\n",
    "plt.xlabel('velocity')\n",
    "plt.ylabel('frequency')\n",
    "plt.plot(x,y)\n",
    "plt.plot(x1,y1, color='orange')"
   ]
  },
  {
   "cell_type": "markdown",
   "metadata": {},
   "source": [
    "# Average Velocity"
   ]
  },
  {
   "cell_type": "code",
   "execution_count": 8,
   "metadata": {},
   "outputs": [
    {
     "data": {
      "text/plain": [
       "<matplotlib.legend.Legend at 0x7f8c706c8240>"
      ]
     },
     "execution_count": 8,
     "metadata": {},
     "output_type": "execute_result"
    },
    {
     "data": {
      "image/png": "[encoded data removed]",
      "text/plain": [
       "<Figure size 432x288 with 1 Axes>"
      ]
     },
     "metadata": {
      "needs_background": "light"
     },
     "output_type": "display_data"
    }
   ],
   "source": [
    "plt.xlabel('Action noise variance')\n",
    "plt.ylabel('Average velocity (m/s)')\n",
    "plt.plot([0.1,0.2,0.3,0.4,0.5,0.6,0.7,0.8,0.9,1.0,1.5,2.0,2.5],[np.mean(LC01list),np.mean(LC02list),np.mean(LC03list),\n",
    "                                                               np.mean(LC04list),np.mean(LC05list),np.mean(LC06list),\n",
    "                                                               np.mean(LC07list),np.mean(LC08list),np.mean(LC09list),\n",
    "                                                               np.mean(LC1list),np.mean(LC15list),np.mean(LC2list),\n",
    "                                                               np.mean(LC25list),], color='orange')\n",
    "plt.plot([0.1,0.2,0.3,0.4,0.5,0.6,0.7,0.8,0.9,1.0,1.5,2.0,2.5], [np.mean(TD01list),np.mean(TD02list),np.mean(TD03list),\n",
    "                                                               np.mean(TD04list),np.mean(TD05list),np.mean(TD06list),\n",
    "                                                               np.mean(TD07list),np.mean(TD08list),np.mean(TD09list),\n",
    "                                                                    np.mean(TD1_list),np.mean(TD15_list), np.mean(TD2_list), \n",
    "                                                                    np.mean(TD25_list)])\n",
    "\n",
    "plt.legend(['LC2013 (Erdmann 2015)', 'Proposed'])"
   ]
  },
  {
   "cell_type": "code",
   "execution_count": 9,
   "metadata": {},
   "outputs": [],
   "source": [
    "TDL = np.array([np.mean(TD01list),np.mean(TD02list),np.mean(TD03list),\n",
    "                                                               np.mean(TD04list),np.mean(TD05list),np.mean(TD06list),\n",
    "                                                               np.mean(TD07list),np.mean(TD08list),np.mean(TD09list),\n",
    "                                                                    np.mean(TD1_list),np.mean(TD15_list), np.mean(TD2_list), \n",
    "                                                                    np.mean(TD25_list)])\n",
    "LCL = np.array([np.mean(LC01list),np.mean(LC02list),np.mean(LC03list),\n",
    "                                                               np.mean(LC04list),np.mean(LC05list),np.mean(LC06list),\n",
    "                                                               np.mean(LC07list),np.mean(LC08list),np.mean(LC09list),\n",
    "                                                               np.mean(LC1list),np.mean(LC15list),np.mean(LC2list),\n",
    "                                                               np.mean(LC25list),])\n",
    "\n",
    "ANV = np.array([0.1,0.2,0.3,0.4,0.5,0.6,0.7,0.8,0.9,1.0,1.5,2.0,2.5])\n",
    "ANV3 = []\n",
    "TDL3 = []\n",
    "LCL3 = []\n",
    "for i in range(11):\n",
    "    TDL3.append(np.mean(TDL[i:i+2]))\n",
    "    LCL3.append(np.mean(LCL[i:i+2]))\n",
    "    ANV3.append(np.mean(ANV[i:i+2]))\n",
    "\n",
    "\n",
    "TDLdf = pd.DataFrame(TDL3, columns=['Average velocity (m/s)'])\n",
    "TDLdf['Action noise variance of non-AVs'] = pd.DataFrame(ANV3)\n",
    "LCLdf = pd.DataFrame(LCL3, columns=['Average velocity (m/s)'])\n",
    "LCLdf['Action noise variance of non-AVs'] = pd.DataFrame(ANV3)"
   ]
  },
  {
   "cell_type": "code",
   "execution_count": 10,
   "metadata": {},
   "outputs": [
    {
     "name": "stdout",
     "output_type": "stream",
     "text": [
      "(3.455211565909493, 3.457488931111251)\n"
     ]
    }
   ],
   "source": [
    "def ci99(inp):\n",
    "    max99 = np.mean(inp) + (1.96 * (np.std(inp) / np.sqrt(len(inp))))\n",
    "    min99 = np.mean(inp) - (1.96 * (np.std(inp) / np.sqrt(len(inp))))\n",
    "    return min99, max99\n",
    "\n",
    "\n",
    "print(ci99([np.mean(TD01list),np.mean(TD02list),np.mean(TD03list)]))"
   ]
  },
  {
   "cell_type": "code",
   "execution_count": 11,
   "metadata": {},
   "outputs": [],
   "source": [
    "#confidence Interval\n",
    "ciminTD=[]\n",
    "cimaxTD=[]\n",
    "ciminLC=[]\n",
    "cimaxLC=[]\n",
    "for i in range(11):\n",
    "    ciminTD.append(ci99([TDL[i:i+2]])[0])\n",
    "    cimaxTD.append(ci99([TDL[i:i+2]])[1])\n",
    "    ciminLC.append(ci99([LCL[i:i+2]])[0])\n",
    "    cimaxLC.append(ci99([LCL[i:i+2]])[1])\n",
    "\n",
    "TMA = pd.DataFrame(ANV3, columns=['Average velocity (m/s)'])\n",
    "TMA['Action noise variance'] = pd.DataFrame(cimaxTD)\n",
    "TMI = pd.DataFrame(ANV3, columns=['Average velocity (m/s)'])\n",
    "TMI['Action noise variance'] = pd.DataFrame(ciminTD)\n",
    "LMA = pd.DataFrame(ANV3, columns=['Average velocity (m/s)'])\n",
    "LMA['Action noise variance'] = pd.DataFrame(cimaxLC)\n",
    "LMI = pd.DataFrame(ANV3, columns=['Average velocity (m/s)'])\n",
    "LMI['Action noise variance'] = pd.DataFrame(ciminLC)"
   ]
  },
  {
   "cell_type": "code",
   "execution_count": 12,
   "metadata": {
    "scrolled": true
   },
   "outputs": [
    {
     "data": {
      "text/plain": [
       "<matplotlib.legend.Legend at 0x7f8c7092cc88>"
      ]
     },
     "execution_count": 12,
     "metadata": {},
     "output_type": "execute_result"
    },
    {
     "data": {
      "image/png": "[encoded data removed]",
      "text/plain": [
       "<Figure size 432x288 with 1 Axes>"
      ]
     },
     "metadata": {
      "needs_background": "light"
     },
     "output_type": "display_data"
    }
   ],
   "source": [
    "# Average of three sample \n",
    "fig , ax = plt.subplots()\n",
    "\n",
    "ax = sns.lineplot( x= 'Action noise variance of non-AVs', y='Average velocity (m/s)', ci = 95 , \n",
    "                  markers=False, dashes=False, data = LCLdf, color='orange')\n",
    "ax = sns.lineplot( x= 'Action noise variance of non-AVs', y='Average velocity (m/s)', ci = 95 , \n",
    "                  markers=False, dashes=False, data = TDLdf )\n",
    "\n",
    "plt.legend(['LC2013 (Erdmann 2015)', 'Proposed'])"
   ]
  },
  {
   "cell_type": "code",
   "execution_count": 13,
   "metadata": {},
   "outputs": [
    {
     "data": {
      "image/png": "[encoded data removed]",
      "text/plain": [
       "<Figure size 432x288 with 1 Axes>"
      ]
     },
     "metadata": {
      "needs_background": "light"
     },
     "output_type": "display_data"
    }
   ],
   "source": [
    "# curve smoothing\n",
    "ANV3 = np.array(ANV3)\n",
    "xnew = np.linspace(ANV3.min(), ANV3.max(), 200) \n",
    "\n",
    "slTD = make_interp_spline(ANV3, TDL3, k=3)\n",
    "slLC = make_interp_spline(ANV3, LCL3, k=3)\n",
    "\n",
    "\n",
    "power_smooth_TDL = slTD(xnew)\n",
    "power_smooth_LCL = slLC(xnew)\n",
    "\n",
    "\n",
    "plt.plot(xnew, power_smooth_LCL, color='orange')\n",
    "plt.plot(xnew, power_smooth_TDL)\n",
    "# plt.plot(xnew, power_smooth_N, color='black')\n",
    "\n",
    "plt.legend(['(Erdmann 2015)', 'Proposed'])\n",
    "plt.show()"
   ]
  },
  {
   "cell_type": "markdown",
   "metadata": {},
   "source": [
    "# Velocity over the time"
   ]
  },
  {
   "cell_type": "code",
   "execution_count": 14,
   "metadata": {
    "scrolled": true
   },
   "outputs": [
    {
     "data": {
      "text/plain": [
       "<matplotlib.legend.Legend at 0x7f8c70bf7470>"
      ]
     },
     "execution_count": 14,
     "metadata": {},
     "output_type": "execute_result"
    },
    {
     "data": {
      "image/png": "[encoded data removed]",
      "text/plain": [
       "<Figure size 432x288 with 1 Axes>"
      ]
     },
     "metadata": {
      "needs_background": "light"
     },
     "output_type": "display_data"
    }
   ],
   "source": [
    "# plt.plot(np.arange(0,300.1,0.1), PPO_list, color='orange')\n",
    "plt.plot(np.arange(0,260,0.1), TD05list[100:2700])\n",
    "# plt.plot(np.arange(0,260,0.1), TD3052_list[100:2700])\n",
    "# plt.plot(np.arange(0,300,0.1), LC0list)\n",
    "# plt.plot(np.arange(0,300,0.1), LC01list)\n",
    "# plt.plot(np.arange(0,300,0.1), LC02list)\n",
    "plt.plot(np.arange(0,260,0.1), LC05list[100:2700])\n",
    "# plt.plot(np.arange(0,260,0.1), LC1list[100:2700])\n",
    "# plt.plot(np.arange(0,300,0.1), LC2list)\n",
    "# plt.title('The speed of LC2013-based vehicle over time')\n",
    "plt.xlabel('Time')\n",
    "plt.ylabel('Velocity(m/s)')\n",
    "# plt.axhline(y=3.5, color ='red')\n",
    "# plt.legend(['PPO','TD3'], loc = 4)\n",
    "# plt.legend(['LC0','LC01','LC02','LC1','LC2'])\n",
    "plt.legend(['Proposed','LC2013 (Erdmann 2015)'],loc='lower right')"
   ]
  },
  {
   "cell_type": "markdown",
   "metadata": {},
   "source": [
    "# NonRL Velocity"
   ]
  },
  {
   "cell_type": "code",
   "execution_count": 15,
   "metadata": {},
   "outputs": [
    {
     "data": {
      "text/plain": [
       "[<matplotlib.lines.Line2D at 0x7f8c7089c320>]"
      ]
     },
     "execution_count": 15,
     "metadata": {},
     "output_type": "execute_result"
    },
    {
     "data": {
      "image/png": "[encoded data removed]",
      "text/plain": [
       "<Figure size 432x288 with 1 Axes>"
      ]
     },
     "metadata": {
      "needs_background": "light"
     },
     "output_type": "display_data"
    }
   ],
   "source": [
    "LC2n1list = [i for i in LC2['n1']]\n",
    "plt.plot(np.arange(0,300,0.1), LC2n1list)\n",
    "LC2n2list = [i for i in LC2['n2']]\n",
    "plt.plot(np.arange(0,300,0.1), LC2n2list)\n",
    "LC2n3list = [i for i in LC2['n3']]\n",
    "plt.plot(np.arange(0,300,0.1), LC2n3list)\n",
    "LC2n4list = [i for i in LC2['n4']]\n",
    "plt.plot(np.arange(0,300,0.1), LC2n4list)    "
   ]
  },
  {
   "cell_type": "markdown",
   "metadata": {},
   "source": [
    "# Road Entropy except RL"
   ]
  },
  {
   "cell_type": "code",
   "execution_count": 16,
   "metadata": {},
   "outputs": [],
   "source": [
    "# TD3_non = TD3.drop(['rl'],axis=1)\n",
    "# TD3_non\n",
    "TD01_non = TD01.drop(['rl'],axis=1)\n",
    "TD02_non = TD02.drop(['rl'],axis=1)\n",
    "TD03_non = TD03.drop(['rl'],axis=1)\n",
    "TD04_non = TD04.drop(['rl'],axis=1)\n",
    "TD05_non = TD05.drop(['rl'],axis=1)\n",
    "TD06_non = TD06.drop(['rl'],axis=1)\n",
    "TD07_non = TD07.drop(['rl'],axis=1)\n",
    "TD08_non = TD08.drop(['rl'],axis=1)\n",
    "TD09_non = TD09.drop(['rl'],axis=1)\n",
    "\n",
    "# TD3052_non = TD3052.drop(['rl'],axis=1)\n",
    "TD1_non = TD1.drop(['rl'],axis=1)\n",
    "TD15_non = TD15.drop(['rl'],axis=1)\n",
    "TD2_non = TD2.drop(['rl'],axis=1)\n",
    "TD25_non = TD25.drop(['rl'],axis=1)\n",
    "\n",
    "# LC0_non = LC0.drop(['rl'],axis=1)\n",
    "LC01_non = LC01.drop(['rl'],axis=1)\n",
    "LC02_non = LC02.drop(['rl'],axis=1)\n",
    "LC03_non = LC03.drop(['rl'],axis=1)\n",
    "LC04_non = LC04.drop(['rl'],axis=1)\n",
    "LC05_non = LC05.drop(['rl'],axis=1)\n",
    "LC06_non = LC06.drop(['rl'],axis=1)\n",
    "LC07_non = LC07.drop(['rl'],axis=1)\n",
    "LC08_non = LC08.drop(['rl'],axis=1)\n",
    "LC09_non = LC09.drop(['rl'],axis=1)\n",
    "LC1_non = LC1.drop(['rl'],axis=1)\n",
    "LC15_non = LC15.drop(['rl'],axis=1)\n",
    "LC2_non = LC2.drop(['rl'],axis=1)\n",
    "LC25_non = LC25.drop(['rl'],axis=1)\n",
    "# LC2_non = LC2.drop(['rl'],axis=1)\n",
    "\n",
    "\n",
    "N01_non = N01\n",
    "N02_non = N02\n",
    "N03_non = N03\n",
    "N04_non = N04\n",
    "N05_non = N05\n",
    "N06_non = N06\n",
    "N07_non = N07\n",
    "N08_non = N08\n",
    "N09_non = N09\n",
    "N1_non = N1\n",
    "N15_non = N15\n",
    "N2_non = N2\n",
    "N25_non = N25"
   ]
  },
  {
   "cell_type": "code",
   "execution_count": 17,
   "metadata": {},
   "outputs": [],
   "source": [
    "# TD3_non_histo = []\n",
    "# TD3_non_histo_set = []\n",
    "# for i in range(1,19):\n",
    "#      TD3_non_histo += [round(j,2) for j in TD3_non['n{}'.format(i)]]\n",
    "\n",
    "TD01_non_histo = []\n",
    "for i in range(1,19):\n",
    "     TD01_non_histo += [round(j,2) for j in TD01_non['n{}'.format(i)]]\n",
    "\n",
    "TD02_non_histo = []\n",
    "for i in range(1,19):\n",
    "     TD02_non_histo += [round(j,2) for j in TD02_non['n{}'.format(i)]]\n",
    "        \n",
    "TD03_non_histo = []\n",
    "for i in range(1,19):\n",
    "     TD03_non_histo += [round(j,2) for j in TD03_non['n{}'.format(i)]]\n",
    "\n",
    "TD04_non_histo = []\n",
    "for i in range(1,19):\n",
    "     TD04_non_histo += [round(j,2) for j in TD04_non['n{}'.format(i)]]\n",
    "        \n",
    "TD05_non_histo = []\n",
    "for i in range(1,19):\n",
    "     TD05_non_histo += [round(j,2) for j in TD05_non['n{}'.format(i)]]\n",
    "\n",
    "TD06_non_histo = []\n",
    "for i in range(1,19):\n",
    "     TD06_non_histo += [round(j,2) for j in TD06_non['n{}'.format(i)]]\n",
    "\n",
    "TD07_non_histo = []\n",
    "for i in range(1,19):\n",
    "     TD07_non_histo += [round(j,2) for j in TD07_non['n{}'.format(i)]]\n",
    "        \n",
    "TD08_non_histo = []\n",
    "for i in range(1,19):\n",
    "     TD08_non_histo += [round(j,2) for j in TD08_non['n{}'.format(i)]]\n",
    "\n",
    "TD09_non_histo = []\n",
    "for i in range(1,19):\n",
    "     TD09_non_histo += [round(j,2) for j in TD09_non['n{}'.format(i)]]\n",
    "                \n",
    "TD1_non_histo = []\n",
    "for i in range(1,19):\n",
    "     TD1_non_histo += [round(j,2) for j in TD1_non['n{}'.format(i)]]\n",
    "\n",
    "TD15_non_histo = []\n",
    "for i in range(1,19):\n",
    "     TD15_non_histo += [round(j,2) for j in TD15_non['n{}'.format(i)]]\n",
    "    \n",
    "TD2_non_histo = []\n",
    "for i in range(1,19):\n",
    "     TD2_non_histo += [round(j,2) for j in TD2_non['n{}'.format(i)]]\n",
    "        \n",
    "TD25_non_histo = []\n",
    "for i in range(1,19):\n",
    "     TD25_non_histo += [round(j,2) for j in TD25_non['n{}'.format(i)]]\n",
    "\n",
    "# TD3052_non_histo = []\n",
    "# for i in range(1,19):\n",
    "#      TD3052_non_histo += [round(j,2) for j in TD3052_non['n{}'.format(i)]]\n",
    "\n",
    "# LC0_non_histo = []\n",
    "# for i in range(1,19):\n",
    "#      LC0_non_histo += [round(j,2) for j in LC0_non['n{}'.format(i)]]\n",
    "        \n",
    "LC01_non_histo = []\n",
    "for i in range(1,19):\n",
    "     LC01_non_histo += [round(j,2) for j in LC01_non['n{}'.format(i)]]\n",
    "\n",
    "LC02_non_histo = []\n",
    "for i in range(1,19):\n",
    "     LC02_non_histo += [round(j,2) for j in LC02_non['n{}'.format(i)]]\n",
    "        \n",
    "LC03_non_histo = []\n",
    "for i in range(1,19):\n",
    "     LC03_non_histo += [round(j,2) for j in LC03_non['n{}'.format(i)]]\n",
    "\n",
    "LC04_non_histo = []\n",
    "for i in range(1,19):\n",
    "     LC04_non_histo += [round(j,2) for j in LC04_non['n{}'.format(i)]]\n",
    "        \n",
    "LC05_non_histo = []\n",
    "for i in range(1,19):\n",
    "     LC05_non_histo += [round(j,2) for j in LC05_non['n{}'.format(i)]]\n",
    "\n",
    "LC06_non_histo = []\n",
    "for i in range(1,19):\n",
    "     LC06_non_histo += [round(j,2) for j in LC06_non['n{}'.format(i)]]\n",
    "\n",
    "LC07_non_histo = []\n",
    "for i in range(1,19):\n",
    "     LC07_non_histo += [round(j,2) for j in LC07_non['n{}'.format(i)]]\n",
    "        \n",
    "LC08_non_histo = []\n",
    "for i in range(1,19):\n",
    "     LC08_non_histo += [round(j,2) for j in LC08_non['n{}'.format(i)]]\n",
    "\n",
    "LC09_non_histo = []\n",
    "for i in range(1,19):\n",
    "     LC09_non_histo += [round(j,2) for j in LC09_non['n{}'.format(i)]]\n",
    "                \n",
    "LC1_non_histo = []\n",
    "for i in range(1,19):\n",
    "     LC1_non_histo += [round(j,2) for j in LC1_non['n{}'.format(i)]]\n",
    "\n",
    "LC15_non_histo = []\n",
    "for i in range(1,19):\n",
    "     LC15_non_histo += [round(j,2) for j in LC15_non['n{}'.format(i)]]\n",
    "    \n",
    "LC2_non_histo = []\n",
    "for i in range(1,19):\n",
    "     LC2_non_histo += [round(j,2) for j in LC2_non['n{}'.format(i)]]\n",
    "        \n",
    "LC25_non_histo = []\n",
    "for i in range(1,19):\n",
    "     LC25_non_histo += [round(j,2) for j in LC25_non['n{}'.format(i)]]\n",
    "        \n",
    "        \n",
    "N01_non_histo = []\n",
    "for i in range(1,19):\n",
    "     N01_non_histo += [round(j,2) for j in N01_non['n{}'.format(i)]]\n",
    "\n",
    "N02_non_histo = []\n",
    "for i in range(1,19):\n",
    "     N02_non_histo += [round(j,2) for j in N02_non['n{}'.format(i)]]\n",
    "        \n",
    "N03_non_histo = []\n",
    "for i in range(1,19):\n",
    "     N03_non_histo += [round(j,2) for j in N03_non['n{}'.format(i)]]\n",
    "\n",
    "N04_non_histo = []\n",
    "for i in range(1,19):\n",
    "     N04_non_histo += [round(j,2) for j in N04_non['n{}'.format(i)]]\n",
    "        \n",
    "N05_non_histo = []\n",
    "for i in range(1,19):\n",
    "     N05_non_histo += [round(j,2) for j in N05_non['n{}'.format(i)]]\n",
    "\n",
    "N06_non_histo = []\n",
    "for i in range(1,19):\n",
    "     N06_non_histo += [round(j,2) for j in N06_non['n{}'.format(i)]]\n",
    "\n",
    "N07_non_histo = []\n",
    "for i in range(1,19):\n",
    "     N07_non_histo += [round(j,2) for j in N07_non['n{}'.format(i)]]\n",
    "        \n",
    "N08_non_histo = []\n",
    "for i in range(1,19):\n",
    "     N08_non_histo += [round(j,2) for j in N08_non['n{}'.format(i)]]\n",
    "\n",
    "N09_non_histo = []\n",
    "for i in range(1,19):\n",
    "     N09_non_histo += [round(j,2) for j in N09_non['n{}'.format(i)]]\n",
    "                \n",
    "N1_non_histo = []\n",
    "for i in range(1,19):\n",
    "     N1_non_histo += [round(j,2) for j in N1_non['n{}'.format(i)]]\n",
    "\n",
    "N15_non_histo = []\n",
    "for i in range(1,19):\n",
    "     N15_non_histo += [round(j,2) for j in N15_non['n{}'.format(i)]]\n",
    "    \n",
    "N2_non_histo = []\n",
    "for i in range(1,19):\n",
    "     N2_non_histo += [round(j,2) for j in N2_non['n{}'.format(i)]]\n",
    "        \n",
    "N25_non_histo = []\n",
    "for i in range(1,19):\n",
    "     N25_non_histo += [round(j,2) for j in N25_non['n{}'.format(i)]]"
   ]
  },
  {
   "cell_type": "code",
   "execution_count": 18,
   "metadata": {},
   "outputs": [
    {
     "name": "stderr",
     "output_type": "stream",
     "text": [
      "/snap/jupyter/6/lib/python3.7/site-packages/ipykernel_launcher.py:14: MatplotlibDeprecationWarning: Adding an axes using the same arguments as a previous axes currently reuses the earlier instance.  In a future version, a new instance will always be created and returned.  Meanwhile, this warning can be suppressed, and the future behavior ensured, by passing a unique label to each axes instance.\n",
      "  \n"
     ]
    },
    {
     "data": {
      "image/png": "[encoded data removed]",
      "text/plain": [
       "<Figure size 432x288 with 1 Axes>"
      ]
     },
     "metadata": {
      "needs_background": "light"
     },
     "output_type": "display_data"
    }
   ],
   "source": [
    "# plt.hist(TD3052_non_histo, bins=np.arange(1.7,2.7,0.01))\n",
    "plt.hist(TD05_non_histo, bins=np.arange(1.7,2.7,0.01))\n",
    "\n",
    "# plt.hist(LC0_non_histo, bins=np.arange(1.7,2.7,0.01))\n",
    "# plt.hist(LC01_non_histo, bins=np.arange(1.7,2.7,0.01))\n",
    "# plt.hist(LC02_non_histo, bins=np.arange(1.7,2.7,0.01))\n",
    "plt.hist(LC05_non_histo, bins=np.arange(1.7,2.7,0.01))\n",
    "# plt.hist(LC1_non_histo, bins=np.arange(1.7,2.7,0.01))\n",
    "# plt.hist(LC2_non_histo, bins=np.arange(1.7,2.7,0.01))\n",
    "# plt.hist(PPO_histo, color='orange', bins=np.arange(3.0,4.3,0.01))\n",
    "plt.xlabel('Speed(m/s)')\n",
    "plt.ylabel('Frequency')\n",
    "plt.legend(['LC0','LC01','LC02','LC1','LC2'], loc = 2)\n",
    "ax = plt.axes()\n",
    "ax.xaxis.set_major_locator(ticker.MultipleLocator(0.1))\n",
    "ax.xaxis.set_minor_locator(ticker.MultipleLocator(0.05))"
   ]
  },
  {
   "cell_type": "code",
   "execution_count": 19,
   "metadata": {},
   "outputs": [],
   "source": [
    "# TD3noncnt = Counter(TD3_non_histo)\n",
    "\n",
    "TD01noncnt = Counter(TD01_non_histo)\n",
    "TD02noncnt = Counter(TD02_non_histo)\n",
    "TD03noncnt = Counter(TD03_non_histo)\n",
    "TD04noncnt = Counter(TD04_non_histo)\n",
    "TD05noncnt = Counter(TD05_non_histo)\n",
    "TD06noncnt = Counter(TD06_non_histo)\n",
    "TD07noncnt = Counter(TD07_non_histo)\n",
    "TD08noncnt = Counter(TD08_non_histo)\n",
    "TD09noncnt = Counter(TD09_non_histo)\n",
    "TD1noncnt = Counter(TD1_non_histo)\n",
    "TD15noncnt = Counter(TD15_non_histo)\n",
    "TD2noncnt = Counter(TD2_non_histo)\n",
    "TD25noncnt = Counter(TD25_non_histo)\n",
    "\n",
    "# LC0noncnt = Counter(LC0_non_histo)\n",
    "LC01noncnt = Counter(LC01_non_histo)\n",
    "LC02noncnt = Counter(LC02_non_histo)\n",
    "LC03noncnt = Counter(LC03_non_histo)\n",
    "LC04noncnt = Counter(LC04_non_histo)\n",
    "LC05noncnt = Counter(LC05_non_histo)\n",
    "LC06noncnt = Counter(LC06_non_histo)\n",
    "LC07noncnt = Counter(LC07_non_histo)\n",
    "LC08noncnt = Counter(LC08_non_histo)\n",
    "LC09noncnt = Counter(LC09_non_histo)\n",
    "LC1noncnt = Counter(LC1_non_histo)\n",
    "LC15noncnt = Counter(LC15_non_histo)\n",
    "LC2noncnt = Counter(LC2_non_histo)\n",
    "LC25noncnt = Counter(LC25_non_histo)\n",
    "\n",
    "\n",
    "N01noncnt = Counter(N01_non_histo)\n",
    "N02noncnt = Counter(N02_non_histo)\n",
    "N03noncnt = Counter(N03_non_histo)\n",
    "N04noncnt = Counter(N04_non_histo)\n",
    "N05noncnt = Counter(N05_non_histo)\n",
    "N06noncnt = Counter(N06_non_histo)\n",
    "N07noncnt = Counter(N07_non_histo)\n",
    "N08noncnt = Counter(N08_non_histo)\n",
    "N09noncnt = Counter(N09_non_histo)\n",
    "N1noncnt = Counter(N1_non_histo)\n",
    "N15noncnt = Counter(N15_non_histo)\n",
    "N2noncnt = Counter(N2_non_histo)\n",
    "N25noncnt = Counter(N25_non_histo)"
   ]
  },
  {
   "cell_type": "markdown",
   "metadata": {},
   "source": [
    "# Calculating Prob' of Non-AV's velocities"
   ]
  },
  {
   "cell_type": "code",
   "execution_count": 20,
   "metadata": {},
   "outputs": [],
   "source": [
    "# TD3non_prob = np.array([i / 3000 for i in TD3noncnt.values()])\n",
    "# TD3non_item = np.array([ i  for i in TD3noncnt.keys() ])\n",
    "\n",
    "TD01non_prob = np.array([i / 54000 for i in TD01noncnt.values()])\n",
    "TD01non_item = np.array([ i  for i in TD01noncnt.keys() ])\n",
    "\n",
    "TD02non_prob = np.array([i / 54000 for i in TD02noncnt.values()])\n",
    "TD02non_item = np.array([ i  for i in TD02noncnt.keys() ])\n",
    "\n",
    "TD03non_prob = np.array([i / 54000 for i in TD03noncnt.values()])\n",
    "TD03non_item = np.array([ i  for i in TD03noncnt.keys() ])\n",
    "\n",
    "TD04non_prob = np.array([i / 54000 for i in TD04noncnt.values()])\n",
    "TD04non_item = np.array([ i  for i in TD04noncnt.keys() ])\n",
    "\n",
    "TD05non_prob = np.array([i / 54000 for i in TD05noncnt.values()])\n",
    "TD05non_item = np.array([ i  for i in TD05noncnt.keys() ])\n",
    "\n",
    "TD06non_prob = np.array([i / 54000 for i in TD06noncnt.values()])\n",
    "TD06non_item = np.array([ i  for i in TD06noncnt.keys() ])\n",
    "\n",
    "TD07non_prob = np.array([i / 54000 for i in TD07noncnt.values()])\n",
    "TD07non_item = np.array([ i  for i in TD07noncnt.keys() ])\n",
    "\n",
    "TD08non_prob = np.array([i / 54000 for i in TD08noncnt.values()])\n",
    "TD08non_item = np.array([ i  for i in TD08noncnt.keys() ])\n",
    "\n",
    "TD09non_prob = np.array([i / 54000 for i in TD09noncnt.values()])\n",
    "TD09non_item = np.array([ i  for i in TD09noncnt.keys() ])\n",
    "\n",
    "TD1non_prob = np.array([i / 54000 for i in TD1noncnt.values()])\n",
    "TD1non_item = np.array([ i  for i in TD1noncnt.keys() ])\n",
    "\n",
    "TD15non_prob = np.array([i / 54000 for i in TD15noncnt.values()])\n",
    "TD15non_item = np.array([ i  for i in TD15noncnt.keys() ])\n",
    "\n",
    "TD2non_prob = np.array([i / 54000 for i in TD2noncnt.values()])\n",
    "TD2non_item = np.array([ i  for i in TD2noncnt.keys() ])\n",
    "\n",
    "TD25non_prob = np.array([i / 54000 for i in TD25noncnt.values()])\n",
    "TD25non_item = np.array([ i  for i in TD25noncnt.keys() ])\n",
    "\n",
    "# LC0non_prob = np.array([i / 54000 for i in LC0noncnt.values()])\n",
    "# LC0non_item = np.array([ i  for i in LC0noncnt.keys() ])\n",
    "\n",
    "LC01non_prob = np.array([i / 54000 for i in LC01noncnt.values()])\n",
    "LC01non_item = np.array([ i  for i in LC01noncnt.keys() ])\n",
    "\n",
    "LC02non_prob = np.array([i / 54000 for i in LC02noncnt.values()])\n",
    "LC02non_item = np.array([ i  for i in LC02noncnt.keys() ])\n",
    "\n",
    "LC03non_prob = np.array([i / 54000 for i in LC03noncnt.values()])\n",
    "LC03non_item = np.array([ i  for i in LC03noncnt.keys() ])\n",
    "\n",
    "LC04non_prob = np.array([i / 54000 for i in LC04noncnt.values()])\n",
    "LC04non_item = np.array([ i  for i in LC04noncnt.keys() ])\n",
    "\n",
    "LC05non_prob = np.array([i / 54000 for i in LC05noncnt.values()])\n",
    "LC05non_item = np.array([ i  for i in LC05noncnt.keys() ])\n",
    "\n",
    "LC06non_prob = np.array([i / 54000 for i in LC06noncnt.values()])\n",
    "LC06non_item = np.array([ i  for i in LC06noncnt.keys() ])\n",
    "\n",
    "LC07non_prob = np.array([i / 54000 for i in LC07noncnt.values()])\n",
    "LC07non_item = np.array([ i  for i in LC07noncnt.keys() ])\n",
    "\n",
    "LC08non_prob = np.array([i / 54000 for i in LC08noncnt.values()])\n",
    "LC08non_item = np.array([ i  for i in LC08noncnt.keys() ])\n",
    "\n",
    "LC09non_prob = np.array([i / 54000 for i in LC09noncnt.values()])\n",
    "LC09non_item = np.array([ i  for i in LC09noncnt.keys() ])\n",
    "\n",
    "LC1non_prob = np.array([i / 54000 for i in LC1noncnt.values()])\n",
    "LC1non_item = np.array([ i  for i in LC1noncnt.keys() ])\n",
    "\n",
    "LC15non_prob = np.array([i / 54000 for i in LC15noncnt.values()])\n",
    "LC15non_item = np.array([ i  for i in LC15noncnt.keys() ])\n",
    "\n",
    "LC2non_prob = np.array([i / 54000 for i in LC2noncnt.values()])\n",
    "LC2non_item = np.array([ i  for i in LC2noncnt.keys() ])\n",
    "\n",
    "LC25non_prob = np.array([i / 54000 for i in LC25noncnt.values()])\n",
    "LC25non_item = np.array([ i  for i in LC25noncnt.keys() ])\n",
    "\n",
    "\n",
    "N01non_prob = np.array([i / 54000 for i in N01noncnt.values()])\n",
    "N01non_item = np.array([ i  for i in N01noncnt.keys() ])\n",
    "\n",
    "N02non_prob = np.array([i / 54000 for i in N02noncnt.values()])\n",
    "N02non_item = np.array([ i  for i in N02noncnt.keys() ])\n",
    "\n",
    "N03non_prob = np.array([i / 54000 for i in N03noncnt.values()])\n",
    "N03non_item = np.array([ i  for i in N03noncnt.keys() ])\n",
    "\n",
    "N04non_prob = np.array([i / 54000 for i in N04noncnt.values()])\n",
    "N04non_item = np.array([ i  for i in N04noncnt.keys() ])\n",
    "\n",
    "N05non_prob = np.array([i / 54000 for i in N05noncnt.values()])\n",
    "N05non_item = np.array([ i  for i in N05noncnt.keys() ])\n",
    "\n",
    "N06non_prob = np.array([i / 54000 for i in N06noncnt.values()])\n",
    "N06non_item = np.array([ i  for i in N06noncnt.keys() ])\n",
    "\n",
    "N07non_prob = np.array([i / 54000 for i in N07noncnt.values()])\n",
    "N07non_item = np.array([ i  for i in N07noncnt.keys() ])\n",
    "\n",
    "N08non_prob = np.array([i / 54000 for i in N08noncnt.values()])\n",
    "N08non_item = np.array([ i  for i in N08noncnt.keys() ])\n",
    "\n",
    "N09non_prob = np.array([i / 54000 for i in N09noncnt.values()])\n",
    "N09non_item = np.array([ i  for i in N09noncnt.keys() ])\n",
    "\n",
    "N1non_prob = np.array([i / 54000 for i in N1noncnt.values()])\n",
    "N1non_item = np.array([ i  for i in N1noncnt.keys() ])\n",
    "\n",
    "N15non_prob = np.array([i / 54000 for i in N15noncnt.values()])\n",
    "N15non_item = np.array([ i  for i in N15noncnt.keys() ])\n",
    "\n",
    "N2non_prob = np.array([i / 54000 for i in N2noncnt.values()])\n",
    "N2non_item = np.array([ i  for i in N2noncnt.keys() ])\n",
    "\n",
    "N25non_prob = np.array([i / 54000 for i in N25noncnt.values()])\n",
    "N25non_item = np.array([ i  for i in N25noncnt.keys() ])"
   ]
  },
  {
   "cell_type": "code",
   "execution_count": 21,
   "metadata": {},
   "outputs": [
    {
     "name": "stdout",
     "output_type": "stream",
     "text": [
      "H of LC01 NON-AVs =  1.7680202921064205\n",
      "H of LC02 NON-AVs =  2.1336773747313855\n",
      "H of LC03 NON-AVs =  2.4091840906008333\n",
      "H of LC04 NON-AVs =  2.6181995323361327\n",
      "H of LC05 NON-AVs =  2.791456624703772\n",
      "H of LC06 NON-AVs =  2.9607496980311527\n",
      "H of LC07 NON-AVs =  3.06766982560094\n",
      "H of LC08 NON-AVs =  3.1794663186297027\n",
      "H of LC09 NON-AVs =  3.297281650167225\n",
      "H of LC1 NON-AVs =  3.3873433966294844\n",
      "H of LC15 NON-AVs =  3.7338034920077785\n",
      "H of LC2 NON-AVs =  3.8625192148214764\n",
      "H of LC25 NON-AVs =  4.18746230085811\n"
     ]
    }
   ],
   "source": [
    "def H(p):\n",
    "    id_p = np.where(p != 0)\n",
    "    return -np.sum(p[id_p]*np.log(p[id_p]))\n",
    "\n",
    "# print(\"H of NON-AVs = \",H(TD3non_prob))\n",
    "\n",
    "# print(\"H of TD3052 NON-AVs = \",H(TD3052non_prob))\n",
    "# print(\"H of TD3051 NON-AVs = \",H(TD3051non_prob))\n",
    "# print(\"H of LC0 NON-AVs = \",H(LC0non_prob))\n",
    "print(\"H of LC01 NON-AVs = \",H(LC01non_prob))\n",
    "print(\"H of LC02 NON-AVs = \",H(LC02non_prob))\n",
    "print(\"H of LC03 NON-AVs = \",H(LC03non_prob))\n",
    "print(\"H of LC04 NON-AVs = \",H(LC04non_prob))\n",
    "print(\"H of LC05 NON-AVs = \",H(LC05non_prob))\n",
    "print(\"H of LC06 NON-AVs = \",H(LC06non_prob))\n",
    "print(\"H of LC07 NON-AVs = \",H(LC07non_prob))\n",
    "print(\"H of LC08 NON-AVs = \",H(LC08non_prob))\n",
    "print(\"H of LC09 NON-AVs = \",H(LC09non_prob))\n",
    "print(\"H of LC1 NON-AVs = \",H(LC1non_prob))\n",
    "print(\"H of LC15 NON-AVs = \",H(LC15non_prob))\n",
    "print(\"H of LC2 NON-AVs = \",H(LC2non_prob))\n",
    "print(\"H of LC25 NON-AVs = \",H(LC25non_prob))"
   ]
  },
  {
   "cell_type": "markdown",
   "metadata": {},
   "source": [
    "# Road Stability"
   ]
  },
  {
   "cell_type": "code",
   "execution_count": 22,
   "metadata": {},
   "outputs": [],
   "source": [
    "LC2013LIST=np.array([np.exp(i) for i in [H(LC01non_prob),H(LC02non_prob),H(LC03non_prob),\n",
    "                     H(LC04non_prob),H(LC05non_prob),H(LC06non_prob),\n",
    "                     H(LC07non_prob),H(LC08non_prob),H(LC09non_prob),\n",
    "                     H(LC1non_prob),H(LC15non_prob),H(LC2non_prob),H(LC25non_prob)]])\n",
    "TDLIST=np.array([np.exp(i) for i in[H(TD01non_prob),H(TD02non_prob),H(TD03non_prob), \n",
    "                    H(TD04non_prob),H(TD05non_prob),H(TD06non_prob),\n",
    "                    H(TD07non_prob),H(TD08non_prob),H(TD09non_prob),\n",
    "                    H(TD1non_prob),H(TD15non_prob),H(TD2non_prob),H(TD25non_prob)]])\n",
    "NLIST=np.array([np.exp(i) for i in [H(N01non_prob),H(N02non_prob),H(N03non_prob), \n",
    "                     H(N04non_prob),H(N05non_prob),H(N06non_prob),\n",
    "                     H(N07non_prob),H(N08non_prob),H(N09non_prob),\n",
    "                     H(N1non_prob),H(N15non_prob),H(N2non_prob),H(N25non_prob)]])"
   ]
  },
  {
   "cell_type": "code",
   "execution_count": 23,
   "metadata": {},
   "outputs": [],
   "source": [
    "TDL33 = []\n",
    "LCL33 = []\n",
    "for i in range(11):\n",
    "    TDL33.append(np.mean(TDLIST[i:i+2]))\n",
    "    LCL33.append(np.mean(LC2013LIST[i:i+2]))\n",
    "\n",
    "TDLLdf = pd.DataFrame(TDL33, columns=['Road entropy ($e^H$)'])\n",
    "TDLLdf['Action noise variance of non-AVs'] = pd.DataFrame(ANV3)\n",
    "LCLLdf = pd.DataFrame(LCL33, columns=['Road entropy ($e^H$)'])\n",
    "LCLLdf['Action noise variance of non-AVs'] = pd.DataFrame(ANV3)"
   ]
  },
  {
   "cell_type": "code",
   "execution_count": 24,
   "metadata": {},
   "outputs": [
    {
     "data": {
      "text/plain": [
       "<matplotlib.legend.Legend at 0x7f8c6bdda9b0>"
      ]
     },
     "execution_count": 24,
     "metadata": {},
     "output_type": "execute_result"
    },
    {
     "data": {
      "image/png": "[encoded data removed]",
      "text/plain": [
       "<Figure size 432x288 with 1 Axes>"
      ]
     },
     "metadata": {
      "needs_background": "light"
     },
     "output_type": "display_data"
    }
   ],
   "source": [
    "fig , ax = plt.subplots()\n",
    "\n",
    "ax = sns.lineplot( x= 'Action noise variance of non-AVs', y='Road entropy ($e^H$)', ci = 95 , \n",
    "                  markers=False, dashes=False, data = LCLLdf, color='orange')\n",
    "ax = sns.lineplot( x= 'Action noise variance of non-AVs', y='Road entropy ($e^H$)', ci = 95 , \n",
    "                  markers=False, dashes=False, data = TDLLdf )\n",
    "\n",
    "plt.yscale('log')\n",
    "plt.legend(['LC2013 (Erdmann 2015)', 'Proposed'])"
   ]
  },
  {
   "cell_type": "code",
   "execution_count": 25,
   "metadata": {},
   "outputs": [
    {
     "data": {
      "text/plain": [
       "<matplotlib.legend.Legend at 0x7f8c6beb5780>"
      ]
     },
     "execution_count": 25,
     "metadata": {},
     "output_type": "execute_result"
    },
    {
     "data": {
      "image/png": "[encoded data removed]",
      "text/plain": [
       "<Figure size 432x288 with 1 Axes>"
      ]
     },
     "metadata": {
      "needs_background": "light"
     },
     "output_type": "display_data"
    }
   ],
   "source": [
    "plt.xlabel('Action noise variance')\n",
    "plt.ylabel('Road entropy ($e^H$)')\n",
    "plt.plot([0.1,0.2,0.3,0.4,0.5,0.6,0.7,0.8,0.9,1.0,1.5,2.0,2.5],[np.exp(i) for i in [H(LC01non_prob),H(LC02non_prob),H(LC03non_prob),\n",
    "                                                                   H(LC04non_prob),H(LC05non_prob),H(LC06non_prob),\n",
    "                                                                  H(LC07non_prob),H(LC08non_prob),H(LC09non_prob),\n",
    "                                                                  H(LC1non_prob),H(LC15non_prob),H(LC2non_prob),\n",
    "                                                                   H(LC25non_prob)]],color='orange')\n",
    "plt.plot([0.1,0.2,0.3,0.4,0.5,0.6,0.7,0.8,0.9,1.0,1.5,2.0,2.5],[np.exp(i) for i in[H(TD01non_prob),H(TD02non_prob),H(TD03non_prob),\n",
    "                                                                   H(TD04non_prob),H(TD05non_prob),H(TD06non_prob),\n",
    "                                                                   H(TD07non_prob),H(TD08non_prob),H(TD09non_prob),\n",
    "                                                                   H(TD1non_prob),H(TD15non_prob),H(TD2non_prob),\n",
    "                                                                   H(TD25non_prob)]])\n",
    "plt.plot([0.1,0.2,0.3,0.4,0.5,0.6,0.7,0.8,0.9,1.0,1.5,2.0,2.5],[np.exp(i) for i in [H(N01non_prob),H(N02non_prob),H(N03non_prob),\n",
    "                                                                   H(N04non_prob),H(N05non_prob),H(N06non_prob),\n",
    "                                                                   H(N07non_prob),H(N08non_prob),H(N09non_prob),\n",
    "                                                                   H(N1non_prob),H(N15non_prob),H(N2non_prob),\n",
    "                                                                   H(N25non_prob)]],color='black')\n",
    "\n",
    "plt.yscale('log')\n",
    "plt.legend(['LC2013 (Erdmann 2015)', 'Proposed'])"
   ]
  },
  {
   "cell_type": "code",
   "execution_count": 26,
   "metadata": {},
   "outputs": [],
   "source": [
    "from scipy.interpolate import make_interp_spline, BSpline"
   ]
  },
  {
   "cell_type": "code",
   "execution_count": 27,
   "metadata": {
    "scrolled": true
   },
   "outputs": [
    {
     "data": {
      "image/png": "[encoded data removed]",
      "text/plain": [
       "<Figure size 432x288 with 1 Axes>"
      ]
     },
     "metadata": {
      "needs_background": "light"
     },
     "output_type": "display_data"
    }
   ],
   "source": [
    "ANV = np.array([0.1,0.2,0.3,0.4,0.5,0.6,0.7,0.8,0.9,1.0,1.5,2.0,2.5])\n",
    "xnew = np.linspace(ANV.min(), ANV.max(), 300) \n",
    "\n",
    "splTD = make_interp_spline(ANV, TDLIST, k=3)\n",
    "splLC = make_interp_spline(ANV, LC2013LIST, k=3)\n",
    "splN = make_interp_spline(ANV, NLIST, k=3)\n",
    "\n",
    "power_smooth_TD = splTD(xnew)\n",
    "power_smooth_LC = splLC(xnew)\n",
    "power_smooth_N = splN(xnew)\n",
    "\n",
    "plt.plot(xnew, power_smooth_LC, color='orange')\n",
    "plt.plot(xnew, power_smooth_TD)\n",
    "plt.plot(xnew, power_smooth_N, color='black')\n",
    "plt.yscale('log')\n",
    "plt.legend(['LC2013 (Erdmann 2015)', 'Proposed'])\n",
    "plt.xlabel('Action noise variance')\n",
    "plt.ylabel('Road entropy ($e^H$)')\n",
    "plt.show()"
   ]
  },
  {
   "cell_type": "markdown",
   "metadata": {},
   "source": [
    "# Emergency Decel"
   ]
  },
  {
   "cell_type": "markdown",
   "metadata": {},
   "source": [
    "# Policy Entropy"
   ]
  },
  {
   "cell_type": "code",
   "execution_count": 28,
   "metadata": {},
   "outputs": [],
   "source": [
    "# PPO_histo = [round(i,2) for i in PPO['rl']]\n",
    "\n",
    "TD01_histo = [round(i,2) for i in TD01['rl'][100:2700]]\n",
    "TD02_histo = [round(i,2) for i in TD02['rl'][100:2700]]\n",
    "TD03_histo = [round(i,2) for i in TD03['rl'][100:2700]]\n",
    "TD04_histo = [round(i,2) for i in TD04['rl'][100:2700]]\n",
    "TD05_histo = [round(i,2) for i in TD05['rl'][100:2700]]\n",
    "TD06_histo = [round(i,2) for i in TD06['rl'][100:2700]]\n",
    "TD07_histo = [round(i,2) for i in TD07['rl'][100:2700]]\n",
    "TD08_histo = [round(i,2) for i in TD08['rl'][100:2700]]\n",
    "TD09_histo = [round(i,2) for i in TD09['rl'][100:2700]]\n",
    "TD1_histo = [round(i,2) for i in TD1['rl'][100:2700]]\n",
    "TD15_histo = [round(i,2) for i in TD15['rl'][100:2700]]\n",
    "TD2_histo = [round(i,2) for i in TD2['rl'][100:2700]]\n",
    "TD25_histo = [round(i,2) for i in TD25['rl'][100:2700]]\n",
    "\n",
    "\n",
    "LC01_histo = [round(i,2) for i in LC01['rl'][100:2700]]\n",
    "LC02_histo = [round(i,2) for i in LC02['rl'][100:2700]]\n",
    "LC03_histo = [round(i,2) for i in LC03['rl'][100:2700]]\n",
    "LC04_histo = [round(i,2) for i in LC04['rl'][100:2700]]\n",
    "LC05_histo = [round(i,2) for i in LC05['rl'][100:2700]]\n",
    "LC06_histo = [round(i,2) for i in LC06['rl'][100:2700]]\n",
    "LC07_histo = [round(i,2) for i in LC07['rl'][100:2700]]\n",
    "LC08_histo = [round(i,2) for i in LC08['rl'][100:2700]]\n",
    "LC09_histo = [round(i,2) for i in LC09['rl'][100:2700]]\n",
    "LC1_histo = [round(i,2) for i in LC1['rl'][100:2700]]\n",
    "LC15_histo = [round(i,2) for i in LC15['rl'][100:2700]]\n",
    "LC2_histo = [round(i,2) for i in LC2['rl'][100:2700]]\n",
    "LC25_histo = [round(i,2) for i in LC25['rl'][100:2700]]"
   ]
  },
  {
   "cell_type": "code",
   "execution_count": 39,
   "metadata": {},
   "outputs": [
    {
     "ename": "NameError",
     "evalue": "name 'PPO_histo' is not defined",
     "output_type": "error",
     "traceback": [
      "\u001b[0;31m---------------------------------------------------------------------------\u001b[0m",
      "\u001b[0;31mNameError\u001b[0m                                 Traceback (most recent call last)",
      "\u001b[0;32m<ipython-input-39-a17ef6a46e40>\u001b[0m in \u001b[0;36m<module>\u001b[0;34m\u001b[0m\n\u001b[1;32m      2\u001b[0m \u001b[0mplt\u001b[0m\u001b[0;34m.\u001b[0m\u001b[0mhist\u001b[0m\u001b[0;34m(\u001b[0m\u001b[0mTD05_histo\u001b[0m\u001b[0;34m,\u001b[0m \u001b[0mbins\u001b[0m\u001b[0;34m=\u001b[0m\u001b[0mnp\u001b[0m\u001b[0;34m.\u001b[0m\u001b[0marange\u001b[0m\u001b[0;34m(\u001b[0m\u001b[0;36m3.2\u001b[0m\u001b[0;34m,\u001b[0m\u001b[0;36m4.0\u001b[0m\u001b[0;34m,\u001b[0m\u001b[0;36m0.01\u001b[0m\u001b[0;34m)\u001b[0m\u001b[0;34m)\u001b[0m\u001b[0;34m\u001b[0m\u001b[0;34m\u001b[0m\u001b[0m\n\u001b[1;32m      3\u001b[0m \u001b[0;31m# plt.hist(LC05_histo, bins=np.arange(3.2,4.0,0.01))\u001b[0m\u001b[0;34m\u001b[0m\u001b[0;34m\u001b[0m\u001b[0;34m\u001b[0m\u001b[0m\n\u001b[0;32m----> 4\u001b[0;31m \u001b[0mplt\u001b[0m\u001b[0;34m.\u001b[0m\u001b[0mhist\u001b[0m\u001b[0;34m(\u001b[0m\u001b[0mPPO_histo\u001b[0m\u001b[0;34m,\u001b[0m \u001b[0mcolor\u001b[0m\u001b[0;34m=\u001b[0m\u001b[0;34m'orange'\u001b[0m\u001b[0;34m,\u001b[0m \u001b[0mbins\u001b[0m\u001b[0;34m=\u001b[0m\u001b[0mnp\u001b[0m\u001b[0;34m.\u001b[0m\u001b[0marange\u001b[0m\u001b[0;34m(\u001b[0m\u001b[0;36m3.0\u001b[0m\u001b[0;34m,\u001b[0m\u001b[0;36m4.3\u001b[0m\u001b[0;34m,\u001b[0m\u001b[0;36m0.01\u001b[0m\u001b[0;34m)\u001b[0m\u001b[0;34m)\u001b[0m\u001b[0;34m\u001b[0m\u001b[0;34m\u001b[0m\u001b[0m\n\u001b[0m\u001b[1;32m      5\u001b[0m \u001b[0mplt\u001b[0m\u001b[0;34m.\u001b[0m\u001b[0mxlabel\u001b[0m\u001b[0;34m(\u001b[0m\u001b[0;34m'Speed(m/s)'\u001b[0m\u001b[0;34m)\u001b[0m\u001b[0;34m\u001b[0m\u001b[0;34m\u001b[0m\u001b[0m\n\u001b[1;32m      6\u001b[0m \u001b[0mplt\u001b[0m\u001b[0;34m.\u001b[0m\u001b[0mylabel\u001b[0m\u001b[0;34m(\u001b[0m\u001b[0;34m'Frequency'\u001b[0m\u001b[0;34m)\u001b[0m\u001b[0;34m\u001b[0m\u001b[0;34m\u001b[0m\u001b[0m\n",
      "\u001b[0;31mNameError\u001b[0m: name 'PPO_histo' is not defined"
     ]
    },
    {
     "data": {
      "image/png": "[encoded data removed]",
      "text/plain": [
       "<Figure size 432x288 with 1 Axes>"
      ]
     },
     "metadata": {
      "needs_background": "light"
     },
     "output_type": "display_data"
    }
   ],
   "source": [
    "# plt.hist(TD3052_histo, bins=np.arange(3.0,4.2,0.01))\n",
    "plt.hist(TD05_histo, bins=np.arange(3.2,4.0,0.01))\n",
    "# plt.hist(LC05_histo, bins=np.arange(3.2,4.0,0.01))\n",
    "plt.hist(PPO_histo, color='orange', bins=np.arange(3.0,4.3,0.01))\n",
    "plt.xlabel('Speed(m/s)')\n",
    "plt.ylabel('Frequency')\n",
    "plt.legend(['Proposed','PPO'], loc = 2)\n",
    "ax = plt.axes()\n",
    "ax.xaxis.set_major_locator(ticker.MultipleLocator(0.1))\n",
    "ax.xaxis.set_minor_locator(ticker.MultipleLocator(0.01))"
   ]
  },
  {
   "cell_type": "code",
   "execution_count": 30,
   "metadata": {},
   "outputs": [],
   "source": [
    "TD01cnt = Counter(TD01_histo)\n",
    "TD02cnt = Counter(TD02_histo)\n",
    "TD03cnt = Counter(TD03_histo)\n",
    "TD04cnt = Counter(TD04_histo)\n",
    "TD05cnt = Counter(TD05_histo)\n",
    "TD06cnt = Counter(TD06_histo)\n",
    "TD07cnt = Counter(TD07_histo)\n",
    "TD08cnt = Counter(TD08_histo)\n",
    "TD09cnt = Counter(TD09_histo)\n",
    "TD1cnt = Counter(TD1_histo)\n",
    "TD15cnt = Counter(TD15_histo)\n",
    "TD2cnt = Counter(TD2_histo)\n",
    "TD25cnt = Counter(TD25_histo)\n",
    "\n",
    "LC01cnt = Counter(LC01_histo)\n",
    "LC02cnt = Counter(LC02_histo)\n",
    "LC03cnt = Counter(LC03_histo)\n",
    "LC04cnt = Counter(LC04_histo)\n",
    "LC05cnt = Counter(LC05_histo)\n",
    "LC06cnt = Counter(LC06_histo)\n",
    "LC07cnt = Counter(LC07_histo)\n",
    "LC08cnt = Counter(LC08_histo)\n",
    "LC09cnt = Counter(LC09_histo)\n",
    "LC1cnt = Counter(LC1_histo)\n",
    "LC15cnt = Counter(LC15_histo)\n",
    "LC2cnt = Counter(LC2_histo)\n",
    "LC25cnt = Counter(LC25_histo)"
   ]
  },
  {
   "cell_type": "code",
   "execution_count": 31,
   "metadata": {},
   "outputs": [
    {
     "name": "stdout",
     "output_type": "stream",
     "text": [
      "TD05 mode:[3.49]\n",
      "LC05 mode:[3.47]\n",
      "LC1 mode:[3.47]\n"
     ]
    }
   ],
   "source": [
    "print(\"TD05 mode:{}\".format([k for k, v in TD05cnt.items() if v == max(TD05cnt.values())]))\n",
    "# print(\"TD3051 mode:{}\".format([k for k, v in TD3051cnt.items() if v == max(TD3051cnt.values())]))\n",
    "print(\"LC05 mode:{}\".format([k for k, v in LC05cnt.items() if v == max(LC05cnt.values())]))\n",
    "print(\"LC1 mode:{}\".format([k for k, v in LC1cnt.items() if v == max(LC1cnt.values())]))\n",
    "# print(\"PPO mode:{}\".format([k for k, v in PPOcnt.items() if v == max(PPOcnt.values())]))"
   ]
  },
  {
   "cell_type": "markdown",
   "metadata": {},
   "source": [
    "# Calculating prob' of AV's velocities"
   ]
  },
  {
   "cell_type": "code",
   "execution_count": 32,
   "metadata": {},
   "outputs": [],
   "source": [
    "TD01_prob = np.array([i / 3000 for i in TD01cnt.values()])\n",
    "TD01_item = np.array([ i  for i in TD01cnt.keys() ])\n",
    "\n",
    "TD02_prob = np.array([i / 3000 for i in TD02cnt.values()])\n",
    "TD02_item = np.array([ i  for i in TD02cnt.keys() ])\n",
    "\n",
    "TD03_prob = np.array([i / 3000 for i in TD03cnt.values()])\n",
    "TD03_item = np.array([ i  for i in TD03cnt.keys() ])\n",
    "\n",
    "TD04_prob = np.array([i / 3000 for i in TD04cnt.values()])\n",
    "TD04_item = np.array([ i  for i in TD04cnt.keys() ])\n",
    "\n",
    "TD05_prob = np.array([i / 3000 for i in TD05cnt.values()])\n",
    "TD05_item = np.array([ i  for i in TD05cnt.keys() ])\n",
    "\n",
    "TD06_prob = np.array([i / 3000 for i in TD06cnt.values()])\n",
    "TD06_item = np.array([ i  for i in TD06cnt.keys() ])\n",
    "\n",
    "TD07_prob = np.array([i / 3000 for i in TD07cnt.values()])\n",
    "TD07_item = np.array([ i  for i in TD07cnt.keys() ])\n",
    "\n",
    "TD08_prob = np.array([i / 3000 for i in TD08cnt.values()])\n",
    "TD08_item = np.array([ i  for i in TD08cnt.keys() ])\n",
    "\n",
    "TD09_prob = np.array([i / 3000 for i in TD09cnt.values()])\n",
    "TD09_item = np.array([ i  for i in TD09cnt.keys() ])\n",
    "\n",
    "TD1_prob = np.array([i / 3000 for i in TD1cnt.values()])\n",
    "TD1_item = np.array([ i  for i in TD1cnt.keys() ])\n",
    "\n",
    "TD15_prob = np.array([i / 3000 for i in TD15cnt.values()])\n",
    "TD15_item = np.array([ i  for i in TD15cnt.keys() ])\n",
    "\n",
    "TD2_prob = np.array([i / 3000 for i in TD2cnt.values()])\n",
    "TD2_item = np.array([ i  for i in TD2cnt.keys() ])\n",
    "\n",
    "TD25_prob = np.array([i / 3000 for i in TD25cnt.values()])\n",
    "TD25_item = np.array([ i  for i in TD25cnt.keys() ])\n",
    "\n",
    "\n",
    "LC01_prob = np.array([i / 3000 for i in LC01cnt.values()])\n",
    "LC01_item = np.array([ i  for i in LC01cnt.keys() ])\n",
    "\n",
    "LC02_prob = np.array([i / 3000 for i in LC02cnt.values()])\n",
    "LC02_item = np.array([ i  for i in LC02cnt.keys() ])\n",
    "\n",
    "LC03_prob = np.array([i / 3000 for i in LC03cnt.values()])\n",
    "LC03_item = np.array([ i  for i in LC03cnt.keys() ])\n",
    "\n",
    "LC04_prob = np.array([i / 3000 for i in LC04cnt.values()])\n",
    "LC04_item = np.array([ i  for i in LC04cnt.keys() ])\n",
    "\n",
    "LC05_prob = np.array([i / 3000 for i in LC05cnt.values()])\n",
    "LC05_item = np.array([ i  for i in LC05cnt.keys() ])\n",
    "\n",
    "LC06_prob = np.array([i / 3000 for i in LC06cnt.values()])\n",
    "LC06_item = np.array([ i  for i in LC06cnt.keys() ])\n",
    "\n",
    "LC07_prob = np.array([i / 3000 for i in LC07cnt.values()])\n",
    "LC07_item = np.array([ i  for i in LC07cnt.keys() ])\n",
    "\n",
    "LC08_prob = np.array([i / 3000 for i in LC08cnt.values()])\n",
    "LC08_item = np.array([ i  for i in LC08cnt.keys() ])\n",
    "\n",
    "LC09_prob = np.array([i / 3000 for i in LC09cnt.values()])\n",
    "LC09_item = np.array([ i  for i in LC09cnt.keys() ])\n",
    "\n",
    "LC1_prob = np.array([i / 3000 for i in LC1cnt.values()])\n",
    "LC1_item = np.array([ i  for i in LC1cnt.keys() ])\n",
    "\n",
    "LC15_prob = np.array([i / 3000 for i in LC15cnt.values()])\n",
    "LC15_item = np.array([ i  for i in LC15cnt.keys() ])\n",
    "\n",
    "LC2_prob = np.array([i / 3000 for i in LC2cnt.values()])\n",
    "LC2_item = np.array([ i  for i in LC2cnt.keys() ])\n",
    "\n",
    "LC25_prob = np.array([i / 3000 for i in LC25cnt.values()])\n",
    "LC25_item = np.array([ i  for i in LC25cnt.keys() ])\n",
    "\n",
    "\n",
    "# PPO_prob = np.array([i / 3000 for i in PPOcnt.values()])\n",
    "# PPO_item = np.array([ i  for i in PPOcnt.keys() ])"
   ]
  },
  {
   "cell_type": "markdown",
   "metadata": {},
   "source": [
    "# Plotting Policy stability"
   ]
  },
  {
   "cell_type": "code",
   "execution_count": 33,
   "metadata": {},
   "outputs": [],
   "source": [
    "LC33 = [np.exp(i) for i in [H(LC01_prob),H(LC02_prob),H(LC03_prob),\n",
    "                                                                   H(LC04_prob),H(LC05_prob),H(LC06_prob),\n",
    "                                                                  H(LC07_prob),H(LC08_prob),H(LC09_prob),\n",
    "                                                                  H(LC1_prob),H(LC15_prob),H(LC2_prob),\n",
    "                                                                   H(LC25_prob)]]\n",
    "\n",
    "TD33 = [np.exp(i) for i in [H(TD01_prob),H(TD02_prob),H(TD03_prob),\n",
    "                                                                   H(TD04_prob),H(TD05_prob),H(TD06_prob),\n",
    "                                                                   H(TD07_prob),H(TD08_prob),H(TD09_prob),\n",
    "                                                                   H(TD1_prob),H(TD15_prob),H(TD2_prob),\n",
    "                                                                   H(TD25_prob)]]"
   ]
  },
  {
   "cell_type": "code",
   "execution_count": 34,
   "metadata": {},
   "outputs": [],
   "source": [
    "TDL333 = []\n",
    "LCL333 = []\n",
    "for i in range(11):\n",
    "    TDL333.append(np.mean(TD33[i:i+2]))\n",
    "    LCL333.append(np.mean(LC33[i:i+2]))\n",
    "\n",
    "TDLLLdf = pd.DataFrame(TDL333, columns=[\"Entropy of AV's velocities ($e^H$)\"])\n",
    "TDLLLdf['Action noise variance of non-AVs'] = pd.DataFrame(ANV3)\n",
    "LCLLLdf = pd.DataFrame(LCL333, columns=[\"Entropy of AV's velocities ($e^H$)\"])\n",
    "LCLLLdf['Action noise variance of non-AVs'] = pd.DataFrame(ANV3)"
   ]
  },
  {
   "cell_type": "code",
   "execution_count": 35,
   "metadata": {},
   "outputs": [
    {
     "data": {
      "text/plain": [
       "<matplotlib.legend.Legend at 0x7f8c6b9131d0>"
      ]
     },
     "execution_count": 35,
     "metadata": {},
     "output_type": "execute_result"
    },
    {
     "data": {
      "image/png": "[encoded data removed]",
      "text/plain": [
       "<Figure size 432x288 with 1 Axes>"
      ]
     },
     "metadata": {
      "needs_background": "light"
     },
     "output_type": "display_data"
    }
   ],
   "source": [
    "fig , ax = plt.subplots()\n",
    "\n",
    "ax = sns.lineplot( x= 'Action noise variance of non-AVs', y=\"Entropy of AV's velocities ($e^H$)\", ci = 95 , \n",
    "                  markers=False, dashes=False, data = LCLLLdf, color='orange')\n",
    "ax = sns.lineplot( x= 'Action noise variance of non-AVs', y=\"Entropy of AV's velocities ($e^H$)\", ci = 95 , \n",
    "                  markers=False, dashes=False, data = TDLLLdf )\n",
    "\n",
    "plt.yscale('log')\n",
    "plt.legend(['LC2013 (Erdmann 2015)', 'Proposed'])"
   ]
  },
  {
   "cell_type": "code",
   "execution_count": 36,
   "metadata": {},
   "outputs": [
    {
     "data": {
      "text/plain": [
       "<matplotlib.legend.Legend at 0x7f8c6b861c88>"
      ]
     },
     "execution_count": 36,
     "metadata": {},
     "output_type": "execute_result"
    },
    {
     "data": {
      "image/png": "[encoded data removed]",
      "text/plain": [
       "<Figure size 432x288 with 1 Axes>"
      ]
     },
     "metadata": {
      "needs_background": "light"
     },
     "output_type": "display_data"
    }
   ],
   "source": [
    "plt.xlabel('Action noise variance')\n",
    "plt.ylabel(\"Entropy of AV's velocities ($e^H$)\")\n",
    "plt.plot([0.1,0.2,0.3,0.4,0.5,0.6,0.7,0.8,0.9,1.0,1.5,2.0,2.5],[np.exp(i) for i in [H(LC01_prob),H(LC02_prob),H(LC03_prob),\n",
    "                                                                   H(LC04_prob),H(LC05_prob),H(LC06_prob),\n",
    "                                                                  H(LC07_prob),H(LC08_prob),H(LC09_prob),\n",
    "                                                                  H(LC1_prob),H(LC15_prob),H(LC2_prob),\n",
    "                                                                   H(LC25_prob)]], color='orange')\n",
    "plt.plot([0.1,0.2,0.3,0.4,0.5,0.6,0.7,0.8,0.9,1.0,1.5,2.0,2.5],[np.exp(i) for i in [H(TD01_prob),H(TD02_prob),H(TD03_prob),\n",
    "                                                                   H(TD04_prob),H(TD05_prob),H(TD06_prob),\n",
    "                                                                   H(TD07_prob),H(TD08_prob),H(TD09_prob),\n",
    "                                                                   H(TD1_prob),H(TD15_prob),H(TD2_prob),\n",
    "                                                                   H(TD25_prob)]])\n",
    "plt.yscale('log')\n",
    "plt.legend(['LC2013 (Erdmann 2015)','TD3'], loc='lower right')"
   ]
  },
  {
   "cell_type": "code",
   "execution_count": null,
   "metadata": {},
   "outputs": [],
   "source": []
  },
  {
   "cell_type": "code",
   "execution_count": null,
   "metadata": {},
   "outputs": [],
   "source": []
  },
  {
   "cell_type": "code",
   "execution_count": null,
   "metadata": {},
   "outputs": [],
   "source": []
  },
  {
   "cell_type": "code",
   "execution_count": null,
   "metadata": {},
   "outputs": [],
   "source": []
  }
 ],
 "metadata": {
  "kernelspec": {
   "display_name": "Python 3",
   "language": "python",
   "name": "python3"
  },
  "language_info": {
   "codemirror_mode": {
    "name": "ipython",
    "version": 3
   },
   "file_extension": ".py",
   "mimetype": "text/x-python",
   "name": "python",
   "nbconvert_exporter": "python",
   "pygments_lexer": "ipython3",
   "version": "3.7.8"
  }
 },
 "nbformat": 4,
 "nbformat_minor": 2
}
